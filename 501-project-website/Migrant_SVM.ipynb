{
 "cells": [
  {
   "cell_type": "markdown",
   "metadata": {},
   "source": [
    "## Importing Relevant Libraries"
   ]
  },
  {
   "cell_type": "code",
   "execution_count": 1,
   "metadata": {},
   "outputs": [],
   "source": [
    "import pandas as pd\n",
    "import numpy as np\n",
    "import matplotlib.pyplot as plt\n",
    "import seaborn as sns\n",
    "from sklearn.metrics import confusion_matrix, ConfusionMatrixDisplay"
   ]
  },
  {
   "cell_type": "markdown",
   "metadata": {},
   "source": [
    " ### Exploring the dataset."
   ]
  },
  {
   "cell_type": "code",
   "execution_count": 2,
   "metadata": {},
   "outputs": [
    {
     "data": {
      "text/html": [
       "<div>\n",
       "<style scoped>\n",
       "    .dataframe tbody tr th:only-of-type {\n",
       "        vertical-align: middle;\n",
       "    }\n",
       "\n",
       "    .dataframe tbody tr th {\n",
       "        vertical-align: top;\n",
       "    }\n",
       "\n",
       "    .dataframe thead th {\n",
       "        text-align: right;\n",
       "    }\n",
       "</style>\n",
       "<table border=\"1\" class=\"dataframe\">\n",
       "  <thead>\n",
       "    <tr style=\"text-align: right;\">\n",
       "      <th></th>\n",
       "      <th>English language learners</th>\n",
       "      <th>Enrollment</th>\n",
       "      <th>Guidance counselors</th>\n",
       "      <th>instructional_aides_fte</th>\n",
       "      <th>lea_admin_support_staff_fte</th>\n",
       "      <th>lea_administrators_fte</th>\n",
       "      <th>librarian_specialists_fte</th>\n",
       "      <th>librarian_support_staff_fte</th>\n",
       "      <th>number_of_schools</th>\n",
       "      <th>other_staff_fte</th>\n",
       "      <th>...</th>\n",
       "      <th>support_staff_other_fte</th>\n",
       "      <th>support_staff_stu_wo_psych_fte</th>\n",
       "      <th>support_staff_students_fte</th>\n",
       "      <th>teachers_elementary_fte</th>\n",
       "      <th>teachers_kindergarten_fte</th>\n",
       "      <th>teachers_prek_fte</th>\n",
       "      <th>teachers_secondary_fte</th>\n",
       "      <th>teachers_total_fte</th>\n",
       "      <th>teachers_ungraded_fte</th>\n",
       "      <th>migrantYN</th>\n",
       "    </tr>\n",
       "  </thead>\n",
       "  <tbody>\n",
       "    <tr>\n",
       "      <th>0</th>\n",
       "      <td>-1</td>\n",
       "      <td>71</td>\n",
       "      <td>-1</td>\n",
       "      <td>-1</td>\n",
       "      <td>-1</td>\n",
       "      <td>-1</td>\n",
       "      <td>-1</td>\n",
       "      <td>-1</td>\n",
       "      <td>7</td>\n",
       "      <td>0</td>\n",
       "      <td>...</td>\n",
       "      <td>-1</td>\n",
       "      <td>0</td>\n",
       "      <td>-1</td>\n",
       "      <td>-1</td>\n",
       "      <td>-1</td>\n",
       "      <td>-1</td>\n",
       "      <td>-1</td>\n",
       "      <td>-1</td>\n",
       "      <td>-2</td>\n",
       "      <td>No</td>\n",
       "    </tr>\n",
       "    <tr>\n",
       "      <th>1</th>\n",
       "      <td>770</td>\n",
       "      <td>3790</td>\n",
       "      <td>8</td>\n",
       "      <td>-1</td>\n",
       "      <td>-1</td>\n",
       "      <td>2</td>\n",
       "      <td>7</td>\n",
       "      <td>3</td>\n",
       "      <td>5</td>\n",
       "      <td>0</td>\n",
       "      <td>...</td>\n",
       "      <td>134</td>\n",
       "      <td>0</td>\n",
       "      <td>10</td>\n",
       "      <td>111</td>\n",
       "      <td>24</td>\n",
       "      <td>1</td>\n",
       "      <td>89</td>\n",
       "      <td>225</td>\n",
       "      <td>-2</td>\n",
       "      <td>No</td>\n",
       "    </tr>\n",
       "    <tr>\n",
       "      <th>2</th>\n",
       "      <td>436</td>\n",
       "      <td>5647</td>\n",
       "      <td>15</td>\n",
       "      <td>-1</td>\n",
       "      <td>-1</td>\n",
       "      <td>2</td>\n",
       "      <td>13</td>\n",
       "      <td>4</td>\n",
       "      <td>15</td>\n",
       "      <td>0</td>\n",
       "      <td>...</td>\n",
       "      <td>294</td>\n",
       "      <td>0</td>\n",
       "      <td>17</td>\n",
       "      <td>180</td>\n",
       "      <td>38</td>\n",
       "      <td>5</td>\n",
       "      <td>167</td>\n",
       "      <td>390</td>\n",
       "      <td>-2</td>\n",
       "      <td>No</td>\n",
       "    </tr>\n",
       "    <tr>\n",
       "      <th>3</th>\n",
       "      <td>758</td>\n",
       "      <td>12479</td>\n",
       "      <td>32</td>\n",
       "      <td>-1</td>\n",
       "      <td>-1</td>\n",
       "      <td>2</td>\n",
       "      <td>17</td>\n",
       "      <td>17</td>\n",
       "      <td>16</td>\n",
       "      <td>0</td>\n",
       "      <td>...</td>\n",
       "      <td>744</td>\n",
       "      <td>0</td>\n",
       "      <td>45</td>\n",
       "      <td>447</td>\n",
       "      <td>101</td>\n",
       "      <td>9</td>\n",
       "      <td>457</td>\n",
       "      <td>1015</td>\n",
       "      <td>-2</td>\n",
       "      <td>No</td>\n",
       "    </tr>\n",
       "    <tr>\n",
       "      <th>4</th>\n",
       "      <td>368</td>\n",
       "      <td>8298</td>\n",
       "      <td>17</td>\n",
       "      <td>-1</td>\n",
       "      <td>-1</td>\n",
       "      <td>1</td>\n",
       "      <td>11</td>\n",
       "      <td>9</td>\n",
       "      <td>10</td>\n",
       "      <td>0</td>\n",
       "      <td>...</td>\n",
       "      <td>331</td>\n",
       "      <td>0</td>\n",
       "      <td>34</td>\n",
       "      <td>209</td>\n",
       "      <td>45</td>\n",
       "      <td>4</td>\n",
       "      <td>223</td>\n",
       "      <td>481</td>\n",
       "      <td>-2</td>\n",
       "      <td>No</td>\n",
       "    </tr>\n",
       "  </tbody>\n",
       "</table>\n",
       "<p>5 rows × 27 columns</p>\n",
       "</div>"
      ],
      "text/plain": [
       "   English language learners  Enrollment  Guidance counselors  \\\n",
       "0                         -1          71                   -1   \n",
       "1                        770        3790                    8   \n",
       "2                        436        5647                   15   \n",
       "3                        758       12479                   32   \n",
       "4                        368        8298                   17   \n",
       "\n",
       "   instructional_aides_fte  lea_admin_support_staff_fte  \\\n",
       "0                       -1                           -1   \n",
       "1                       -1                           -1   \n",
       "2                       -1                           -1   \n",
       "3                       -1                           -1   \n",
       "4                       -1                           -1   \n",
       "\n",
       "   lea_administrators_fte  librarian_specialists_fte  \\\n",
       "0                      -1                         -1   \n",
       "1                       2                          7   \n",
       "2                       2                         13   \n",
       "3                       2                         17   \n",
       "4                       1                         11   \n",
       "\n",
       "   librarian_support_staff_fte  number_of_schools  other_staff_fte  ...  \\\n",
       "0                           -1                  7                0  ...   \n",
       "1                            3                  5                0  ...   \n",
       "2                            4                 15                0  ...   \n",
       "3                           17                 16                0  ...   \n",
       "4                            9                 10                0  ...   \n",
       "\n",
       "   support_staff_other_fte  support_staff_stu_wo_psych_fte  \\\n",
       "0                       -1                               0   \n",
       "1                      134                               0   \n",
       "2                      294                               0   \n",
       "3                      744                               0   \n",
       "4                      331                               0   \n",
       "\n",
       "   support_staff_students_fte  teachers_elementary_fte  \\\n",
       "0                          -1                       -1   \n",
       "1                          10                      111   \n",
       "2                          17                      180   \n",
       "3                          45                      447   \n",
       "4                          34                      209   \n",
       "\n",
       "   teachers_kindergarten_fte  teachers_prek_fte  teachers_secondary_fte  \\\n",
       "0                         -1                 -1                      -1   \n",
       "1                         24                  1                      89   \n",
       "2                         38                  5                     167   \n",
       "3                        101                  9                     457   \n",
       "4                         45                  4                     223   \n",
       "\n",
       "   teachers_total_fte  teachers_ungraded_fte  migrantYN  \n",
       "0                  -1                     -2         No  \n",
       "1                 225                     -2         No  \n",
       "2                 390                     -2         No  \n",
       "3                1015                     -2         No  \n",
       "4                 481                     -2         No  \n",
       "\n",
       "[5 rows x 27 columns]"
      ]
     },
     "execution_count": 2,
     "metadata": {},
     "output_type": "execute_result"
    }
   ],
   "source": [
    "# Import data and show forst 5 rows\n",
    "df = pd.read_csv('/Users/katherinemead/Documents/GitHub/anly-501-project-kam515/501-project-website/codes/Migrant_Dataset.csv')\n",
    "\n",
    "df.head()"
   ]
  },
  {
   "cell_type": "code",
   "execution_count": 3,
   "metadata": {},
   "outputs": [],
   "source": [
    "df = df.drop(['other_staff_fte'], axis=1)\n",
    "df = df.drop(['school_counselors_fte'], axis=1)\n",
    "df = df.drop(['school_psychologists_fte'], axis=1)\n",
    "df = df.drop(['school_staff_total_fte'], axis=1)\n",
    "df = df.drop(['support_staff_stu_wo_psych_fte'], axis=1)\n",
    "\n",
    "# Change YN to 1 and 0\n",
    "df['migrantYN'] = df['migrantYN'].replace(['Yes'], 1)\n",
    "df['migrantYN'] = df['migrantYN'].replace(['No'], 0)"
   ]
  },
  {
   "cell_type": "code",
   "execution_count": 4,
   "metadata": {},
   "outputs": [
    {
     "data": {
      "text/html": [
       "<div>\n",
       "<style scoped>\n",
       "    .dataframe tbody tr th:only-of-type {\n",
       "        vertical-align: middle;\n",
       "    }\n",
       "\n",
       "    .dataframe tbody tr th {\n",
       "        vertical-align: top;\n",
       "    }\n",
       "\n",
       "    .dataframe thead th {\n",
       "        text-align: right;\n",
       "    }\n",
       "</style>\n",
       "<table border=\"1\" class=\"dataframe\">\n",
       "  <thead>\n",
       "    <tr style=\"text-align: right;\">\n",
       "      <th></th>\n",
       "      <th>English language learners</th>\n",
       "      <th>Enrollment</th>\n",
       "      <th>Guidance counselors</th>\n",
       "      <th>instructional_aides_fte</th>\n",
       "      <th>lea_admin_support_staff_fte</th>\n",
       "      <th>lea_administrators_fte</th>\n",
       "      <th>librarian_specialists_fte</th>\n",
       "      <th>librarian_support_staff_fte</th>\n",
       "      <th>number_of_schools</th>\n",
       "      <th>school_admin_support_staff_fte</th>\n",
       "      <th>...</th>\n",
       "      <th>spec_ed_students</th>\n",
       "      <th>supervisory_union_number</th>\n",
       "      <th>support_staff_other_fte</th>\n",
       "      <th>support_staff_students_fte</th>\n",
       "      <th>teachers_elementary_fte</th>\n",
       "      <th>teachers_kindergarten_fte</th>\n",
       "      <th>teachers_prek_fte</th>\n",
       "      <th>teachers_secondary_fte</th>\n",
       "      <th>teachers_total_fte</th>\n",
       "      <th>teachers_ungraded_fte</th>\n",
       "    </tr>\n",
       "  </thead>\n",
       "  <tbody>\n",
       "    <tr>\n",
       "      <th>0</th>\n",
       "      <td>-1</td>\n",
       "      <td>71</td>\n",
       "      <td>-1</td>\n",
       "      <td>-1</td>\n",
       "      <td>-1</td>\n",
       "      <td>-1</td>\n",
       "      <td>-1</td>\n",
       "      <td>-1</td>\n",
       "      <td>7</td>\n",
       "      <td>-1</td>\n",
       "      <td>...</td>\n",
       "      <td>72</td>\n",
       "      <td>0</td>\n",
       "      <td>-1</td>\n",
       "      <td>-1</td>\n",
       "      <td>-1</td>\n",
       "      <td>-1</td>\n",
       "      <td>-1</td>\n",
       "      <td>-1</td>\n",
       "      <td>-1</td>\n",
       "      <td>-2</td>\n",
       "    </tr>\n",
       "    <tr>\n",
       "      <th>1</th>\n",
       "      <td>770</td>\n",
       "      <td>3790</td>\n",
       "      <td>8</td>\n",
       "      <td>-1</td>\n",
       "      <td>-1</td>\n",
       "      <td>2</td>\n",
       "      <td>7</td>\n",
       "      <td>3</td>\n",
       "      <td>5</td>\n",
       "      <td>49</td>\n",
       "      <td>...</td>\n",
       "      <td>267</td>\n",
       "      <td>0</td>\n",
       "      <td>134</td>\n",
       "      <td>10</td>\n",
       "      <td>111</td>\n",
       "      <td>24</td>\n",
       "      <td>1</td>\n",
       "      <td>89</td>\n",
       "      <td>225</td>\n",
       "      <td>-2</td>\n",
       "    </tr>\n",
       "    <tr>\n",
       "      <th>2</th>\n",
       "      <td>436</td>\n",
       "      <td>5647</td>\n",
       "      <td>15</td>\n",
       "      <td>-1</td>\n",
       "      <td>-1</td>\n",
       "      <td>2</td>\n",
       "      <td>13</td>\n",
       "      <td>4</td>\n",
       "      <td>15</td>\n",
       "      <td>79</td>\n",
       "      <td>...</td>\n",
       "      <td>665</td>\n",
       "      <td>0</td>\n",
       "      <td>294</td>\n",
       "      <td>17</td>\n",
       "      <td>180</td>\n",
       "      <td>38</td>\n",
       "      <td>5</td>\n",
       "      <td>167</td>\n",
       "      <td>390</td>\n",
       "      <td>-2</td>\n",
       "    </tr>\n",
       "    <tr>\n",
       "      <th>3</th>\n",
       "      <td>758</td>\n",
       "      <td>12479</td>\n",
       "      <td>32</td>\n",
       "      <td>-1</td>\n",
       "      <td>-1</td>\n",
       "      <td>2</td>\n",
       "      <td>17</td>\n",
       "      <td>17</td>\n",
       "      <td>16</td>\n",
       "      <td>232</td>\n",
       "      <td>...</td>\n",
       "      <td>1007</td>\n",
       "      <td>0</td>\n",
       "      <td>744</td>\n",
       "      <td>45</td>\n",
       "      <td>447</td>\n",
       "      <td>101</td>\n",
       "      <td>9</td>\n",
       "      <td>457</td>\n",
       "      <td>1015</td>\n",
       "      <td>-2</td>\n",
       "    </tr>\n",
       "    <tr>\n",
       "      <th>4</th>\n",
       "      <td>368</td>\n",
       "      <td>8298</td>\n",
       "      <td>17</td>\n",
       "      <td>-1</td>\n",
       "      <td>-1</td>\n",
       "      <td>1</td>\n",
       "      <td>11</td>\n",
       "      <td>9</td>\n",
       "      <td>10</td>\n",
       "      <td>79</td>\n",
       "      <td>...</td>\n",
       "      <td>824</td>\n",
       "      <td>0</td>\n",
       "      <td>331</td>\n",
       "      <td>34</td>\n",
       "      <td>209</td>\n",
       "      <td>45</td>\n",
       "      <td>4</td>\n",
       "      <td>223</td>\n",
       "      <td>481</td>\n",
       "      <td>-2</td>\n",
       "    </tr>\n",
       "  </tbody>\n",
       "</table>\n",
       "<p>5 rows × 21 columns</p>\n",
       "</div>"
      ],
      "text/plain": [
       "   English language learners  Enrollment  Guidance counselors  \\\n",
       "0                         -1          71                   -1   \n",
       "1                        770        3790                    8   \n",
       "2                        436        5647                   15   \n",
       "3                        758       12479                   32   \n",
       "4                        368        8298                   17   \n",
       "\n",
       "   instructional_aides_fte  lea_admin_support_staff_fte  \\\n",
       "0                       -1                           -1   \n",
       "1                       -1                           -1   \n",
       "2                       -1                           -1   \n",
       "3                       -1                           -1   \n",
       "4                       -1                           -1   \n",
       "\n",
       "   lea_administrators_fte  librarian_specialists_fte  \\\n",
       "0                      -1                         -1   \n",
       "1                       2                          7   \n",
       "2                       2                         13   \n",
       "3                       2                         17   \n",
       "4                       1                         11   \n",
       "\n",
       "   librarian_support_staff_fte  number_of_schools  \\\n",
       "0                           -1                  7   \n",
       "1                            3                  5   \n",
       "2                            4                 15   \n",
       "3                           17                 16   \n",
       "4                            9                 10   \n",
       "\n",
       "   school_admin_support_staff_fte  ...  spec_ed_students  \\\n",
       "0                              -1  ...                72   \n",
       "1                              49  ...               267   \n",
       "2                              79  ...               665   \n",
       "3                             232  ...              1007   \n",
       "4                              79  ...               824   \n",
       "\n",
       "   supervisory_union_number  support_staff_other_fte  \\\n",
       "0                         0                       -1   \n",
       "1                         0                      134   \n",
       "2                         0                      294   \n",
       "3                         0                      744   \n",
       "4                         0                      331   \n",
       "\n",
       "   support_staff_students_fte  teachers_elementary_fte  \\\n",
       "0                          -1                       -1   \n",
       "1                          10                      111   \n",
       "2                          17                      180   \n",
       "3                          45                      447   \n",
       "4                          34                      209   \n",
       "\n",
       "   teachers_kindergarten_fte  teachers_prek_fte  teachers_secondary_fte  \\\n",
       "0                         -1                 -1                      -1   \n",
       "1                         24                  1                      89   \n",
       "2                         38                  5                     167   \n",
       "3                        101                  9                     457   \n",
       "4                         45                  4                     223   \n",
       "\n",
       "   teachers_total_fte  teachers_ungraded_fte  \n",
       "0                  -1                     -2  \n",
       "1                 225                     -2  \n",
       "2                 390                     -2  \n",
       "3                1015                     -2  \n",
       "4                 481                     -2  \n",
       "\n",
       "[5 rows x 21 columns]"
      ]
     },
     "execution_count": 4,
     "metadata": {},
     "output_type": "execute_result"
    }
   ],
   "source": [
    "# Split the dataframe into X and y and then split X and y into train and test sets.\n",
    "from sklearn.model_selection import train_test_split\n",
    "\n",
    "# name migrantYN as Y variable\n",
    "y = df['migrantYN']\n",
    "\n",
    "\n",
    "y = df['migrantYN']\n",
    "df=df.drop(['migrantYN'], axis=1)\n",
    "\n",
    "# split into train and test sets\n",
    "x_train, x_test, y_train, y_test = train_test_split(df, y, test_size=0.2, random_state=42)\n",
    "\n",
    "df.head()\n"
   ]
  },
  {
   "cell_type": "code",
   "execution_count": 5,
   "metadata": {},
   "outputs": [
    {
     "name": "stdout",
     "output_type": "stream",
     "text": [
      "(14459, 21)\n",
      "(3615, 21)\n",
      "(14459,)\n",
      "(3615,)\n"
     ]
    }
   ],
   "source": [
    "# Show the shape of the train and test sets, and levels of the depencent variable (Y) \n",
    "print(x_train.shape)\n",
    "print(x_test.shape)\n",
    "print(y_train.shape)\n",
    "print(y_test.shape)\n"
   ]
  },
  {
   "cell_type": "markdown",
   "metadata": {},
   "source": [
    "## Normalizing the data"
   ]
  },
  {
   "cell_type": "code",
   "execution_count": 6,
   "metadata": {},
   "outputs": [],
   "source": [
    "# normalize df\n",
    "from sklearn.preprocessing import StandardScaler\n",
    "scaler = StandardScaler()\n",
    "scaler.fit(x_train)\n",
    "x_train = scaler.transform(x_train)\n",
    "x_test = scaler.transform(x_test)\n"
   ]
  },
  {
   "cell_type": "markdown",
   "metadata": {},
   "source": [
    "## SVM with Linear kernels"
   ]
  },
  {
   "cell_type": "code",
   "execution_count": 7,
   "metadata": {},
   "outputs": [],
   "source": [
    "# Import svc from sklearn.svm and classsification_report, confusion_matrix from sklearn.metrics.\n",
    "# Fit the classfier on the training data and predict on the test data. Set the classifier to be linear and C between 0.35-0.75. \n",
    "from sklearn.svm import SVC\n",
    "from sklearn.metrics import classification_report, confusion_matrix\n",
    "\n",
    "target_names = ['Yes', 'No']\n",
    "\n",
    "# fit the classifier on the training data\n",
    "svc_model = SVC(kernel='linear', C=0.55)\n",
    "\n",
    "# predict on the test data\n",
    "model = SVC(C = 0.5, kernel='linear')\n",
    "model.fit(x_train, y_train)\n",
    "\n",
    "yp_train = model.predict(x_train)\n",
    "yp_test = model.predict(x_test)\n",
    "\n",
    "cm_train = confusion_matrix(y_train, yp_train, labels=model.classes_)\n",
    "cm_test = confusion_matrix(y_test, yp_test, labels=model.classes_)"
   ]
  },
  {
   "cell_type": "code",
   "execution_count": 8,
   "metadata": {},
   "outputs": [],
   "source": [
    "# Calculate the confusion matrix and classification report for the train and test data. \n",
    "model_report = classification_report(y_train, yp_train, target_names = target_names, output_dict=True)"
   ]
  },
  {
   "cell_type": "code",
   "execution_count": 9,
   "metadata": {},
   "outputs": [],
   "source": [
    "# Save the results in a data frame. \n",
    "report_df = pd.DataFrame(model_report).transpose()"
   ]
  },
  {
   "cell_type": "code",
   "execution_count": 10,
   "metadata": {},
   "outputs": [
    {
     "data": {
      "text/html": [
       "<div>\n",
       "<style scoped>\n",
       "    .dataframe tbody tr th:only-of-type {\n",
       "        vertical-align: middle;\n",
       "    }\n",
       "\n",
       "    .dataframe tbody tr th {\n",
       "        vertical-align: top;\n",
       "    }\n",
       "\n",
       "    .dataframe thead th {\n",
       "        text-align: right;\n",
       "    }\n",
       "</style>\n",
       "<table border=\"1\" class=\"dataframe\">\n",
       "  <thead>\n",
       "    <tr style=\"text-align: right;\">\n",
       "      <th></th>\n",
       "      <th>precision</th>\n",
       "      <th>recall</th>\n",
       "      <th>f1-score</th>\n",
       "      <th>support</th>\n",
       "    </tr>\n",
       "  </thead>\n",
       "  <tbody>\n",
       "    <tr>\n",
       "      <th>Yes</th>\n",
       "      <td>0.921289</td>\n",
       "      <td>1.000000</td>\n",
       "      <td>0.959032</td>\n",
       "      <td>13320.000000</td>\n",
       "    </tr>\n",
       "    <tr>\n",
       "      <th>No</th>\n",
       "      <td>1.000000</td>\n",
       "      <td>0.000878</td>\n",
       "      <td>0.001754</td>\n",
       "      <td>1139.000000</td>\n",
       "    </tr>\n",
       "    <tr>\n",
       "      <th>accuracy</th>\n",
       "      <td>0.921295</td>\n",
       "      <td>0.921295</td>\n",
       "      <td>0.921295</td>\n",
       "      <td>0.921295</td>\n",
       "    </tr>\n",
       "    <tr>\n",
       "      <th>macro avg</th>\n",
       "      <td>0.960645</td>\n",
       "      <td>0.500439</td>\n",
       "      <td>0.480393</td>\n",
       "      <td>14459.000000</td>\n",
       "    </tr>\n",
       "    <tr>\n",
       "      <th>weighted avg</th>\n",
       "      <td>0.927490</td>\n",
       "      <td>0.921295</td>\n",
       "      <td>0.883623</td>\n",
       "      <td>14459.000000</td>\n",
       "    </tr>\n",
       "  </tbody>\n",
       "</table>\n",
       "</div>"
      ],
      "text/plain": [
       "              precision    recall  f1-score       support\n",
       "Yes            0.921289  1.000000  0.959032  13320.000000\n",
       "No             1.000000  0.000878  0.001754   1139.000000\n",
       "accuracy       0.921295  0.921295  0.921295      0.921295\n",
       "macro avg      0.960645  0.500439  0.480393  14459.000000\n",
       "weighted avg   0.927490  0.921295  0.883623  14459.000000"
      ]
     },
     "execution_count": 10,
     "metadata": {},
     "output_type": "execute_result"
    }
   ],
   "source": [
    "# display the results data frame\n",
    "report_df"
   ]
  },
  {
   "cell_type": "code",
   "execution_count": 11,
   "metadata": {},
   "outputs": [
    {
     "data": {
      "text/plain": [
       "<sklearn.metrics._plot.confusion_matrix.ConfusionMatrixDisplay at 0x7fa297906310>"
      ]
     },
     "execution_count": 11,
     "metadata": {},
     "output_type": "execute_result"
    },
    {
     "data": {
      "image/png": "[encoded data removed]",
      "text/plain": [
       "<Figure size 600x600 with 2 Axes>"
      ]
     },
     "metadata": {
      "needs_background": "light"
     },
     "output_type": "display_data"
    }
   ],
   "source": [
    "# Display Confusion Matrix for the test data. Remember to use the ConfusionMatrixDisplay function.\n",
    "fig, ax = plt.subplots(figsize=(6,6), dpi=100)\n",
    "\n",
    "plot = ConfusionMatrixDisplay(confusion_matrix = cm_test,\n",
    "                             display_labels=model.classes_)\n",
    "\n",
    "plot.plot(ax=ax, cmap=plt.cm.Blues, values_format='d', xticks_rotation='vertical')"
   ]
  },
  {
   "cell_type": "markdown",
   "metadata": {},
   "source": [
    "## SVM with Polynomial kernels"
   ]
  },
  {
   "cell_type": "code",
   "execution_count": 12,
   "metadata": {},
   "outputs": [],
   "source": [
    "# Import svc from sklearn.svm and classsification_report, confusion_matrix from sklearn.metrics.\n",
    "# Fit the classfier on the training data and predict on the test data. Set the classifier to be polynomial, C between 0.35-0.75, and degree = 2. \n",
    "from sklearn.svm import SVC \n",
    "from sklearn.metrics import classification_report, confusion_matrix \n",
    "\n",
    "target_names = ['Yes', 'No']\n",
    "\n",
    "# predict on the test data\n",
    "model = SVC(C = 0.5, kernel='poly', degree=2)\n",
    "model.fit(x_train, y_train)\n",
    "\n",
    "yp_train = model.predict(x_train)\n",
    "yp_test = model.predict(x_test)\n",
    "\n",
    "cm_train = confusion_matrix(y_train, yp_train, labels=model.classes_)\n",
    "cm_test = confusion_matrix(y_test, yp_test, labels=model.classes_)"
   ]
  },
  {
   "cell_type": "code",
   "execution_count": 13,
   "metadata": {},
   "outputs": [],
   "source": [
    "# Calculate the confusion matrix and classification report for the train and test data. \n",
    "model_report2 = classification_report(y_train, yp_train, target_names = target_names, output_dict=True)"
   ]
  },
  {
   "cell_type": "code",
   "execution_count": 14,
   "metadata": {},
   "outputs": [],
   "source": [
    "# Save the results in a data frame.\n",
    "report_df2 = pd.DataFrame(model_report2).transpose()"
   ]
  },
  {
   "cell_type": "code",
   "execution_count": 15,
   "metadata": {},
   "outputs": [
    {
     "data": {
      "text/html": [
       "<div>\n",
       "<style scoped>\n",
       "    .dataframe tbody tr th:only-of-type {\n",
       "        vertical-align: middle;\n",
       "    }\n",
       "\n",
       "    .dataframe tbody tr th {\n",
       "        vertical-align: top;\n",
       "    }\n",
       "\n",
       "    .dataframe thead th {\n",
       "        text-align: right;\n",
       "    }\n",
       "</style>\n",
       "<table border=\"1\" class=\"dataframe\">\n",
       "  <thead>\n",
       "    <tr style=\"text-align: right;\">\n",
       "      <th></th>\n",
       "      <th>precision</th>\n",
       "      <th>recall</th>\n",
       "      <th>f1-score</th>\n",
       "      <th>support</th>\n",
       "    </tr>\n",
       "  </thead>\n",
       "  <tbody>\n",
       "    <tr>\n",
       "      <th>Yes</th>\n",
       "      <td>0.924391</td>\n",
       "      <td>0.999550</td>\n",
       "      <td>0.960502</td>\n",
       "      <td>13320.000000</td>\n",
       "    </tr>\n",
       "    <tr>\n",
       "      <th>No</th>\n",
       "      <td>0.892857</td>\n",
       "      <td>0.043898</td>\n",
       "      <td>0.083682</td>\n",
       "      <td>1139.000000</td>\n",
       "    </tr>\n",
       "    <tr>\n",
       "      <th>accuracy</th>\n",
       "      <td>0.924269</td>\n",
       "      <td>0.924269</td>\n",
       "      <td>0.924269</td>\n",
       "      <td>0.924269</td>\n",
       "    </tr>\n",
       "    <tr>\n",
       "      <th>macro avg</th>\n",
       "      <td>0.908624</td>\n",
       "      <td>0.521724</td>\n",
       "      <td>0.522092</td>\n",
       "      <td>14459.000000</td>\n",
       "    </tr>\n",
       "    <tr>\n",
       "      <th>weighted avg</th>\n",
       "      <td>0.921907</td>\n",
       "      <td>0.924269</td>\n",
       "      <td>0.891431</td>\n",
       "      <td>14459.000000</td>\n",
       "    </tr>\n",
       "  </tbody>\n",
       "</table>\n",
       "</div>"
      ],
      "text/plain": [
       "              precision    recall  f1-score       support\n",
       "Yes            0.924391  0.999550  0.960502  13320.000000\n",
       "No             0.892857  0.043898  0.083682   1139.000000\n",
       "accuracy       0.924269  0.924269  0.924269      0.924269\n",
       "macro avg      0.908624  0.521724  0.522092  14459.000000\n",
       "weighted avg   0.921907  0.924269  0.891431  14459.000000"
      ]
     },
     "execution_count": 15,
     "metadata": {},
     "output_type": "execute_result"
    }
   ],
   "source": [
    "# display the results data frame\n",
    "report_df2"
   ]
  },
  {
   "cell_type": "code",
   "execution_count": 16,
   "metadata": {},
   "outputs": [
    {
     "data": {
      "text/plain": [
       "<sklearn.metrics._plot.confusion_matrix.ConfusionMatrixDisplay at 0x7fa27d8a1400>"
      ]
     },
     "execution_count": 16,
     "metadata": {},
     "output_type": "execute_result"
    },
    {
     "data": {
      "image/png": "[encoded data removed]",
      "text/plain": [
       "<Figure size 1200x1200 with 2 Axes>"
      ]
     },
     "metadata": {
      "needs_background": "light"
     },
     "output_type": "display_data"
    }
   ],
   "source": [
    "# Display Confusion Matrix for the test data. Remember to use the ConfusionMatrixDisplay function.\n",
    "fig, ax = plt.subplots(figsize=(8,8), dpi=150)\n",
    "\n",
    "plot = ConfusionMatrixDisplay(confusion_matrix = cm_test,\n",
    "                             display_labels=model.classes_)\n",
    "\n",
    "plot.plot(ax=ax, cmap=plt.cm.Blues, values_format='d', xticks_rotation='vertical')"
   ]
  },
  {
   "cell_type": "markdown",
   "metadata": {},
   "source": [
    " ## SVM with RBF kernels"
   ]
  },
  {
   "cell_type": "code",
   "execution_count": 17,
   "metadata": {},
   "outputs": [],
   "source": [
    "# Import svc from sklearn.svm and classsification_report, confusion_matrix from sklearn.metrics.\n",
    "# Fit the classfier on the training data and predict on the test data. Set the classifier to be linear and C between 0.35-0.75. \n",
    "\n",
    "model = SVC(C = 0.5, kernel='rbf')\n",
    "model.fit(x_train, y_train)\n",
    "\n",
    "yp_train = model.predict(x_train)\n",
    "yp_test = model.predict(x_test)\n",
    "\n",
    "cm_train = confusion_matrix(y_train, yp_train, labels=model.classes_)\n",
    "cm_test = confusion_matrix(y_test, yp_test, labels=model.classes_)"
   ]
  },
  {
   "cell_type": "code",
   "execution_count": 18,
   "metadata": {},
   "outputs": [],
   "source": [
    "# Calculate the confusion matrix and classification report for the train and test data. \n",
    "model_report3 = classification_report(y_train, yp_train, target_names = target_names, output_dict=True)"
   ]
  },
  {
   "cell_type": "code",
   "execution_count": 19,
   "metadata": {},
   "outputs": [],
   "source": [
    "# Save the results in a data frame.\n",
    "report_df3 = pd.DataFrame(model_report3).transpose()"
   ]
  },
  {
   "cell_type": "code",
   "execution_count": 20,
   "metadata": {},
   "outputs": [
    {
     "data": {
      "text/html": [
       "<div>\n",
       "<style scoped>\n",
       "    .dataframe tbody tr th:only-of-type {\n",
       "        vertical-align: middle;\n",
       "    }\n",
       "\n",
       "    .dataframe tbody tr th {\n",
       "        vertical-align: top;\n",
       "    }\n",
       "\n",
       "    .dataframe thead th {\n",
       "        text-align: right;\n",
       "    }\n",
       "</style>\n",
       "<table border=\"1\" class=\"dataframe\">\n",
       "  <thead>\n",
       "    <tr style=\"text-align: right;\">\n",
       "      <th></th>\n",
       "      <th>precision</th>\n",
       "      <th>recall</th>\n",
       "      <th>f1-score</th>\n",
       "      <th>support</th>\n",
       "    </tr>\n",
       "  </thead>\n",
       "  <tbody>\n",
       "    <tr>\n",
       "      <th>Yes</th>\n",
       "      <td>0.924183</td>\n",
       "      <td>0.998423</td>\n",
       "      <td>0.959870</td>\n",
       "      <td>13320.000000</td>\n",
       "    </tr>\n",
       "    <tr>\n",
       "      <th>No</th>\n",
       "      <td>0.695652</td>\n",
       "      <td>0.042142</td>\n",
       "      <td>0.079470</td>\n",
       "      <td>1139.000000</td>\n",
       "    </tr>\n",
       "    <tr>\n",
       "      <th>accuracy</th>\n",
       "      <td>0.923093</td>\n",
       "      <td>0.923093</td>\n",
       "      <td>0.923093</td>\n",
       "      <td>0.923093</td>\n",
       "    </tr>\n",
       "    <tr>\n",
       "      <th>macro avg</th>\n",
       "      <td>0.809918</td>\n",
       "      <td>0.520283</td>\n",
       "      <td>0.519670</td>\n",
       "      <td>14459.000000</td>\n",
       "    </tr>\n",
       "    <tr>\n",
       "      <th>weighted avg</th>\n",
       "      <td>0.906181</td>\n",
       "      <td>0.923093</td>\n",
       "      <td>0.890517</td>\n",
       "      <td>14459.000000</td>\n",
       "    </tr>\n",
       "  </tbody>\n",
       "</table>\n",
       "</div>"
      ],
      "text/plain": [
       "              precision    recall  f1-score       support\n",
       "Yes            0.924183  0.998423  0.959870  13320.000000\n",
       "No             0.695652  0.042142  0.079470   1139.000000\n",
       "accuracy       0.923093  0.923093  0.923093      0.923093\n",
       "macro avg      0.809918  0.520283  0.519670  14459.000000\n",
       "weighted avg   0.906181  0.923093  0.890517  14459.000000"
      ]
     },
     "execution_count": 20,
     "metadata": {},
     "output_type": "execute_result"
    }
   ],
   "source": [
    "# display the results data frame\n",
    "report_df3"
   ]
  },
  {
   "cell_type": "code",
   "execution_count": 21,
   "metadata": {},
   "outputs": [
    {
     "data": {
      "text/plain": [
       "<sklearn.metrics._plot.confusion_matrix.ConfusionMatrixDisplay at 0x7fa27d9362b0>"
      ]
     },
     "execution_count": 21,
     "metadata": {},
     "output_type": "execute_result"
    },
    {
     "data": {
      "image/png": "[encoded data removed]",
      "text/plain": [
       "<Figure size 1200x1200 with 2 Axes>"
      ]
     },
     "metadata": {
      "needs_background": "light"
     },
     "output_type": "display_data"
    }
   ],
   "source": [
    "# Display Confusion Matrix for the test data. Remember to use the ConfusionMatrixDisplay function.\n",
    "fig, ax = plt.subplots(figsize=(8,8), dpi=150)\n",
    "\n",
    "plot = ConfusionMatrixDisplay(confusion_matrix = cm_test,\n",
    "                             display_labels=model.classes_)\n",
    "\n",
    "plot.plot(ax=ax, cmap=plt.cm.Blues, values_format='d', xticks_rotation='vertical')"
   ]
  },
  {
   "cell_type": "markdown",
   "metadata": {},
   "source": [
    " ## SVM with Sigmoid kernels"
   ]
  },
  {
   "cell_type": "code",
   "execution_count": 22,
   "metadata": {},
   "outputs": [],
   "source": [
    "# Import svc from sklearn.svm and classsification_report, confusion_matrix from sklearn.metrics.\n",
    "# Fit the classfier on the training data and predict on the test data. Set the classifier to be linear and C between 0.35-0.75. \n",
    "model = SVC(C = 0.5, kernel='sigmoid')\n",
    "model.fit(x_train, y_train)\n",
    "\n",
    "yp_train = model.predict(x_train)\n",
    "yp_test = model.predict(x_test)\n",
    "\n",
    "cm_train = confusion_matrix(y_train, yp_train, labels=model.classes_)\n",
    "cm_test = confusion_matrix(y_test, yp_test, labels=model.classes_)\n"
   ]
  },
  {
   "cell_type": "code",
   "execution_count": 23,
   "metadata": {},
   "outputs": [],
   "source": [
    "# Calculate the confusion matrix and classification report for the train and test data. \n",
    "model_report4 = classification_report(y_train, yp_train, target_names = target_names, output_dict=True)"
   ]
  },
  {
   "cell_type": "code",
   "execution_count": 24,
   "metadata": {},
   "outputs": [],
   "source": [
    "# Save the results in a data frame.\n",
    "report_df4 = pd.DataFrame(model_report4).transpose()"
   ]
  },
  {
   "cell_type": "code",
   "execution_count": 25,
   "metadata": {},
   "outputs": [
    {
     "data": {
      "text/html": [
       "<div>\n",
       "<style scoped>\n",
       "    .dataframe tbody tr th:only-of-type {\n",
       "        vertical-align: middle;\n",
       "    }\n",
       "\n",
       "    .dataframe tbody tr th {\n",
       "        vertical-align: top;\n",
       "    }\n",
       "\n",
       "    .dataframe thead th {\n",
       "        text-align: right;\n",
       "    }\n",
       "</style>\n",
       "<table border=\"1\" class=\"dataframe\">\n",
       "  <thead>\n",
       "    <tr style=\"text-align: right;\">\n",
       "      <th></th>\n",
       "      <th>precision</th>\n",
       "      <th>recall</th>\n",
       "      <th>f1-score</th>\n",
       "      <th>support</th>\n",
       "    </tr>\n",
       "  </thead>\n",
       "  <tbody>\n",
       "    <tr>\n",
       "      <th>Yes</th>\n",
       "      <td>0.929071</td>\n",
       "      <td>0.946997</td>\n",
       "      <td>0.937948</td>\n",
       "      <td>13320.00000</td>\n",
       "    </tr>\n",
       "    <tr>\n",
       "      <th>No</th>\n",
       "      <td>0.199546</td>\n",
       "      <td>0.154522</td>\n",
       "      <td>0.174171</td>\n",
       "      <td>1139.00000</td>\n",
       "    </tr>\n",
       "    <tr>\n",
       "      <th>accuracy</th>\n",
       "      <td>0.884570</td>\n",
       "      <td>0.884570</td>\n",
       "      <td>0.884570</td>\n",
       "      <td>0.88457</td>\n",
       "    </tr>\n",
       "    <tr>\n",
       "      <th>macro avg</th>\n",
       "      <td>0.564309</td>\n",
       "      <td>0.550759</td>\n",
       "      <td>0.556060</td>\n",
       "      <td>14459.00000</td>\n",
       "    </tr>\n",
       "    <tr>\n",
       "      <th>weighted avg</th>\n",
       "      <td>0.871603</td>\n",
       "      <td>0.884570</td>\n",
       "      <td>0.877782</td>\n",
       "      <td>14459.00000</td>\n",
       "    </tr>\n",
       "  </tbody>\n",
       "</table>\n",
       "</div>"
      ],
      "text/plain": [
       "              precision    recall  f1-score      support\n",
       "Yes            0.929071  0.946997  0.937948  13320.00000\n",
       "No             0.199546  0.154522  0.174171   1139.00000\n",
       "accuracy       0.884570  0.884570  0.884570      0.88457\n",
       "macro avg      0.564309  0.550759  0.556060  14459.00000\n",
       "weighted avg   0.871603  0.884570  0.877782  14459.00000"
      ]
     },
     "execution_count": 25,
     "metadata": {},
     "output_type": "execute_result"
    }
   ],
   "source": [
    "# display the results data frame\n",
    "report_df4"
   ]
  },
  {
   "cell_type": "code",
   "execution_count": 26,
   "metadata": {},
   "outputs": [
    {
     "data": {
      "text/plain": [
       "<sklearn.metrics._plot.confusion_matrix.ConfusionMatrixDisplay at 0x7fa27db69130>"
      ]
     },
     "execution_count": 26,
     "metadata": {},
     "output_type": "execute_result"
    },
    {
     "data": {
      "image/png": "[encoded data removed]",
      "text/plain": [
       "<Figure size 1200x1200 with 2 Axes>"
      ]
     },
     "metadata": {
      "needs_background": "light"
     },
     "output_type": "display_data"
    }
   ],
   "source": [
    "# Display Confusion Matrix for the test data. Remember to use the ConfusionMatrixDisplay function.\n",
    "fig, ax = plt.subplots(figsize=(8,8), dpi=150)\n",
    "\n",
    "plot = ConfusionMatrixDisplay(confusion_matrix = cm_test,\n",
    "                             display_labels=model.classes_)\n",
    "\n",
    "plot.plot(ax=ax, cmap=plt.cm.Blues, values_format='d', xticks_rotation='vertical')"
   ]
  },
  {
   "cell_type": "code",
   "execution_count": null,
   "metadata": {},
   "outputs": [],
   "source": []
  }
 ],
 "metadata": {
  "kernelspec": {
   "display_name": "Python 3 (ipykernel)",
   "language": "python",
   "name": "python3"
  },
  "language_info": {
   "codemirror_mode": {
    "name": "ipython",
    "version": 3
   },
   "file_extension": ".py",
   "mimetype": "text/x-python",
   "name": "python",
   "nbconvert_exporter": "python",
   "pygments_lexer": "ipython3",
   "version": "3.9.7"
  },
  "vscode": {
   "interpreter": {
    "hash": "f75bc8446c94e3689055a18017573334e0a773cb1d1589a7fad01c467977f447"
   }
  }
 },
 "nbformat": 4,
 "nbformat_minor": 2
}
