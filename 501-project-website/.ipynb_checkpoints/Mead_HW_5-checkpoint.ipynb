{
 "cells": [
  {
   "cell_type": "code",
   "execution_count": null,
   "metadata": {},
   "outputs": [],
   "source": [
    "# References:\n",
    "# scikit-learn documentation\n",
    "# shared code from class"
   ]
  },
  {
   "cell_type": "code",
   "execution_count": 30,
   "metadata": {},
   "outputs": [],
   "source": [
    "# ## Name: Katie Mead\n",
    "# ## Date: 11-10-2022\n",
    "# ## Class Section: 4\n",
    "# ## Lab Section: 5"
   ]
  },
  {
   "cell_type": "markdown",
   "metadata": {},
   "source": [
    "## Data Import and Cleaning and Exploration.\n",
    "\n",
    "This dataset on Palmer Island Penguins was collected and made available by [Dr. Kristen Gorman](https://pallter.marine.rutgers.edu/) and the [Palmer Station, Antarctica LTER](https://pallter.marine.rutgers.edu/), a member of the [Long Term Ecological Research Network](https://lternet.edu/). \n",
    "\n",
    "The datasets contain data for 344 penguins. There are 3 different species of penguins in this dataset, collected from 3 islands in the Palmer Archipelago, Antarctica. \n",
    "\n",
    "We will perform clustering procedure on this dataset.\n"
   ]
  },
  {
   "cell_type": "markdown",
   "metadata": {},
   "source": [
    "## Import libraries and load the dataset\n",
    "\n",
    "Make sure to drop the row-id column"
   ]
  },
  {
   "cell_type": "code",
   "execution_count": 31,
   "metadata": {},
   "outputs": [],
   "source": [
    "import pandas as pd\n",
    "import numpy as np\n",
    "import matplotlib.pyplot as plt\n",
    "import seaborn as sns\n",
    "import scipy.cluster.hierarchy as sch\n",
    "import sklearn.cluster as cluster\n",
    "sns.set_theme(style=\"whitegrid\", palette='Set2')"
   ]
  },
  {
   "cell_type": "code",
   "execution_count": 32,
   "metadata": {},
   "outputs": [
    {
     "data": {
      "text/html": [
       "<div>\n",
       "<style scoped>\n",
       "    .dataframe tbody tr th:only-of-type {\n",
       "        vertical-align: middle;\n",
       "    }\n",
       "\n",
       "    .dataframe tbody tr th {\n",
       "        vertical-align: top;\n",
       "    }\n",
       "\n",
       "    .dataframe thead th {\n",
       "        text-align: right;\n",
       "    }\n",
       "</style>\n",
       "<table border=\"1\" class=\"dataframe\">\n",
       "  <thead>\n",
       "    <tr style=\"text-align: right;\">\n",
       "      <th></th>\n",
       "      <th>English language learners</th>\n",
       "      <th>Enrollment</th>\n",
       "      <th>Guidance counselors</th>\n",
       "      <th>instructional_aides_fte</th>\n",
       "      <th>lea_admin_support_staff_fte</th>\n",
       "      <th>lea_administrators_fte</th>\n",
       "      <th>librarian_specialists_fte</th>\n",
       "      <th>librarian_support_staff_fte</th>\n",
       "      <th>number_of_schools</th>\n",
       "      <th>other_staff_fte</th>\n",
       "      <th>...</th>\n",
       "      <th>support_staff_other_fte</th>\n",
       "      <th>support_staff_stu_wo_psych_fte</th>\n",
       "      <th>support_staff_students_fte</th>\n",
       "      <th>teachers_elementary_fte</th>\n",
       "      <th>teachers_kindergarten_fte</th>\n",
       "      <th>teachers_prek_fte</th>\n",
       "      <th>teachers_secondary_fte</th>\n",
       "      <th>teachers_total_fte</th>\n",
       "      <th>teachers_ungraded_fte</th>\n",
       "      <th>migrantYN</th>\n",
       "    </tr>\n",
       "  </thead>\n",
       "  <tbody>\n",
       "    <tr>\n",
       "      <th>0</th>\n",
       "      <td>-1</td>\n",
       "      <td>71</td>\n",
       "      <td>-1</td>\n",
       "      <td>-1</td>\n",
       "      <td>-1</td>\n",
       "      <td>-1</td>\n",
       "      <td>-1</td>\n",
       "      <td>-1</td>\n",
       "      <td>7</td>\n",
       "      <td>0</td>\n",
       "      <td>...</td>\n",
       "      <td>-1</td>\n",
       "      <td>0</td>\n",
       "      <td>-1</td>\n",
       "      <td>-1</td>\n",
       "      <td>-1</td>\n",
       "      <td>-1</td>\n",
       "      <td>-1</td>\n",
       "      <td>-1</td>\n",
       "      <td>-2</td>\n",
       "      <td>No</td>\n",
       "    </tr>\n",
       "    <tr>\n",
       "      <th>1</th>\n",
       "      <td>770</td>\n",
       "      <td>3790</td>\n",
       "      <td>8</td>\n",
       "      <td>-1</td>\n",
       "      <td>-1</td>\n",
       "      <td>2</td>\n",
       "      <td>7</td>\n",
       "      <td>3</td>\n",
       "      <td>5</td>\n",
       "      <td>0</td>\n",
       "      <td>...</td>\n",
       "      <td>134</td>\n",
       "      <td>0</td>\n",
       "      <td>10</td>\n",
       "      <td>111</td>\n",
       "      <td>24</td>\n",
       "      <td>1</td>\n",
       "      <td>89</td>\n",
       "      <td>225</td>\n",
       "      <td>-2</td>\n",
       "      <td>No</td>\n",
       "    </tr>\n",
       "    <tr>\n",
       "      <th>2</th>\n",
       "      <td>436</td>\n",
       "      <td>5647</td>\n",
       "      <td>15</td>\n",
       "      <td>-1</td>\n",
       "      <td>-1</td>\n",
       "      <td>2</td>\n",
       "      <td>13</td>\n",
       "      <td>4</td>\n",
       "      <td>15</td>\n",
       "      <td>0</td>\n",
       "      <td>...</td>\n",
       "      <td>294</td>\n",
       "      <td>0</td>\n",
       "      <td>17</td>\n",
       "      <td>180</td>\n",
       "      <td>38</td>\n",
       "      <td>5</td>\n",
       "      <td>167</td>\n",
       "      <td>390</td>\n",
       "      <td>-2</td>\n",
       "      <td>No</td>\n",
       "    </tr>\n",
       "    <tr>\n",
       "      <th>3</th>\n",
       "      <td>758</td>\n",
       "      <td>12479</td>\n",
       "      <td>32</td>\n",
       "      <td>-1</td>\n",
       "      <td>-1</td>\n",
       "      <td>2</td>\n",
       "      <td>17</td>\n",
       "      <td>17</td>\n",
       "      <td>16</td>\n",
       "      <td>0</td>\n",
       "      <td>...</td>\n",
       "      <td>744</td>\n",
       "      <td>0</td>\n",
       "      <td>45</td>\n",
       "      <td>447</td>\n",
       "      <td>101</td>\n",
       "      <td>9</td>\n",
       "      <td>457</td>\n",
       "      <td>1015</td>\n",
       "      <td>-2</td>\n",
       "      <td>No</td>\n",
       "    </tr>\n",
       "    <tr>\n",
       "      <th>4</th>\n",
       "      <td>368</td>\n",
       "      <td>8298</td>\n",
       "      <td>17</td>\n",
       "      <td>-1</td>\n",
       "      <td>-1</td>\n",
       "      <td>1</td>\n",
       "      <td>11</td>\n",
       "      <td>9</td>\n",
       "      <td>10</td>\n",
       "      <td>0</td>\n",
       "      <td>...</td>\n",
       "      <td>331</td>\n",
       "      <td>0</td>\n",
       "      <td>34</td>\n",
       "      <td>209</td>\n",
       "      <td>45</td>\n",
       "      <td>4</td>\n",
       "      <td>223</td>\n",
       "      <td>481</td>\n",
       "      <td>-2</td>\n",
       "      <td>No</td>\n",
       "    </tr>\n",
       "  </tbody>\n",
       "</table>\n",
       "<p>5 rows × 27 columns</p>\n",
       "</div>"
      ],
      "text/plain": [
       "   English language learners  Enrollment  Guidance counselors  \\\n",
       "0                         -1          71                   -1   \n",
       "1                        770        3790                    8   \n",
       "2                        436        5647                   15   \n",
       "3                        758       12479                   32   \n",
       "4                        368        8298                   17   \n",
       "\n",
       "   instructional_aides_fte  lea_admin_support_staff_fte  \\\n",
       "0                       -1                           -1   \n",
       "1                       -1                           -1   \n",
       "2                       -1                           -1   \n",
       "3                       -1                           -1   \n",
       "4                       -1                           -1   \n",
       "\n",
       "   lea_administrators_fte  librarian_specialists_fte  \\\n",
       "0                      -1                         -1   \n",
       "1                       2                          7   \n",
       "2                       2                         13   \n",
       "3                       2                         17   \n",
       "4                       1                         11   \n",
       "\n",
       "   librarian_support_staff_fte  number_of_schools  other_staff_fte  ...  \\\n",
       "0                           -1                  7                0  ...   \n",
       "1                            3                  5                0  ...   \n",
       "2                            4                 15                0  ...   \n",
       "3                           17                 16                0  ...   \n",
       "4                            9                 10                0  ...   \n",
       "\n",
       "   support_staff_other_fte  support_staff_stu_wo_psych_fte  \\\n",
       "0                       -1                               0   \n",
       "1                      134                               0   \n",
       "2                      294                               0   \n",
       "3                      744                               0   \n",
       "4                      331                               0   \n",
       "\n",
       "   support_staff_students_fte  teachers_elementary_fte  \\\n",
       "0                          -1                       -1   \n",
       "1                          10                      111   \n",
       "2                          17                      180   \n",
       "3                          45                      447   \n",
       "4                          34                      209   \n",
       "\n",
       "   teachers_kindergarten_fte  teachers_prek_fte  teachers_secondary_fte  \\\n",
       "0                         -1                 -1                      -1   \n",
       "1                         24                  1                      89   \n",
       "2                         38                  5                     167   \n",
       "3                        101                  9                     457   \n",
       "4                         45                  4                     223   \n",
       "\n",
       "   teachers_total_fte  teachers_ungraded_fte  migrantYN  \n",
       "0                  -1                     -2         No  \n",
       "1                 225                     -2         No  \n",
       "2                 390                     -2         No  \n",
       "3                1015                     -2         No  \n",
       "4                 481                     -2         No  \n",
       "\n",
       "[5 rows x 27 columns]"
      ]
     },
     "execution_count": 32,
     "metadata": {},
     "output_type": "execute_result"
    }
   ],
   "source": [
    "df = pd.read_csv(\"/Users/katherinemead/Documents/GitHub/anly-501-project-kam515/501-project-website/codes/05-decision-trees/Migrant_Dataset.csv\")\n",
    "df.head()"
   ]
  },
  {
   "cell_type": "code",
   "execution_count": 33,
   "metadata": {},
   "outputs": [
    {
     "data": {
      "text/html": [
       "<div>\n",
       "<style scoped>\n",
       "    .dataframe tbody tr th:only-of-type {\n",
       "        vertical-align: middle;\n",
       "    }\n",
       "\n",
       "    .dataframe tbody tr th {\n",
       "        vertical-align: top;\n",
       "    }\n",
       "\n",
       "    .dataframe thead th {\n",
       "        text-align: right;\n",
       "    }\n",
       "</style>\n",
       "<table border=\"1\" class=\"dataframe\">\n",
       "  <thead>\n",
       "    <tr style=\"text-align: right;\">\n",
       "      <th></th>\n",
       "      <th>English language learners</th>\n",
       "      <th>Enrollment</th>\n",
       "      <th>Guidance counselors</th>\n",
       "      <th>instructional_aides_fte</th>\n",
       "      <th>lea_admin_support_staff_fte</th>\n",
       "      <th>lea_administrators_fte</th>\n",
       "      <th>librarian_specialists_fte</th>\n",
       "      <th>librarian_support_staff_fte</th>\n",
       "      <th>number_of_schools</th>\n",
       "      <th>other_staff_fte</th>\n",
       "      <th>...</th>\n",
       "      <th>support_staff_other_fte</th>\n",
       "      <th>support_staff_stu_wo_psych_fte</th>\n",
       "      <th>support_staff_students_fte</th>\n",
       "      <th>teachers_elementary_fte</th>\n",
       "      <th>teachers_kindergarten_fte</th>\n",
       "      <th>teachers_prek_fte</th>\n",
       "      <th>teachers_secondary_fte</th>\n",
       "      <th>teachers_total_fte</th>\n",
       "      <th>teachers_ungraded_fte</th>\n",
       "      <th>migrantYN</th>\n",
       "    </tr>\n",
       "  </thead>\n",
       "  <tbody>\n",
       "    <tr>\n",
       "      <th>0</th>\n",
       "      <td>NaN</td>\n",
       "      <td>71.0</td>\n",
       "      <td>NaN</td>\n",
       "      <td>NaN</td>\n",
       "      <td>NaN</td>\n",
       "      <td>NaN</td>\n",
       "      <td>NaN</td>\n",
       "      <td>NaN</td>\n",
       "      <td>7.0</td>\n",
       "      <td>0</td>\n",
       "      <td>...</td>\n",
       "      <td>NaN</td>\n",
       "      <td>0</td>\n",
       "      <td>NaN</td>\n",
       "      <td>NaN</td>\n",
       "      <td>NaN</td>\n",
       "      <td>NaN</td>\n",
       "      <td>NaN</td>\n",
       "      <td>NaN</td>\n",
       "      <td>NaN</td>\n",
       "      <td>No</td>\n",
       "    </tr>\n",
       "    <tr>\n",
       "      <th>1</th>\n",
       "      <td>770.0</td>\n",
       "      <td>3790.0</td>\n",
       "      <td>8.0</td>\n",
       "      <td>NaN</td>\n",
       "      <td>NaN</td>\n",
       "      <td>2.0</td>\n",
       "      <td>7.0</td>\n",
       "      <td>3.0</td>\n",
       "      <td>5.0</td>\n",
       "      <td>0</td>\n",
       "      <td>...</td>\n",
       "      <td>134.0</td>\n",
       "      <td>0</td>\n",
       "      <td>10.0</td>\n",
       "      <td>111.0</td>\n",
       "      <td>24.0</td>\n",
       "      <td>1.0</td>\n",
       "      <td>89.0</td>\n",
       "      <td>225.0</td>\n",
       "      <td>NaN</td>\n",
       "      <td>No</td>\n",
       "    </tr>\n",
       "    <tr>\n",
       "      <th>2</th>\n",
       "      <td>436.0</td>\n",
       "      <td>5647.0</td>\n",
       "      <td>15.0</td>\n",
       "      <td>NaN</td>\n",
       "      <td>NaN</td>\n",
       "      <td>2.0</td>\n",
       "      <td>13.0</td>\n",
       "      <td>4.0</td>\n",
       "      <td>15.0</td>\n",
       "      <td>0</td>\n",
       "      <td>...</td>\n",
       "      <td>294.0</td>\n",
       "      <td>0</td>\n",
       "      <td>17.0</td>\n",
       "      <td>180.0</td>\n",
       "      <td>38.0</td>\n",
       "      <td>5.0</td>\n",
       "      <td>167.0</td>\n",
       "      <td>390.0</td>\n",
       "      <td>NaN</td>\n",
       "      <td>No</td>\n",
       "    </tr>\n",
       "    <tr>\n",
       "      <th>3</th>\n",
       "      <td>758.0</td>\n",
       "      <td>12479.0</td>\n",
       "      <td>32.0</td>\n",
       "      <td>NaN</td>\n",
       "      <td>NaN</td>\n",
       "      <td>2.0</td>\n",
       "      <td>17.0</td>\n",
       "      <td>17.0</td>\n",
       "      <td>16.0</td>\n",
       "      <td>0</td>\n",
       "      <td>...</td>\n",
       "      <td>744.0</td>\n",
       "      <td>0</td>\n",
       "      <td>45.0</td>\n",
       "      <td>447.0</td>\n",
       "      <td>101.0</td>\n",
       "      <td>9.0</td>\n",
       "      <td>457.0</td>\n",
       "      <td>1015.0</td>\n",
       "      <td>NaN</td>\n",
       "      <td>No</td>\n",
       "    </tr>\n",
       "    <tr>\n",
       "      <th>4</th>\n",
       "      <td>368.0</td>\n",
       "      <td>8298.0</td>\n",
       "      <td>17.0</td>\n",
       "      <td>NaN</td>\n",
       "      <td>NaN</td>\n",
       "      <td>1.0</td>\n",
       "      <td>11.0</td>\n",
       "      <td>9.0</td>\n",
       "      <td>10.0</td>\n",
       "      <td>0</td>\n",
       "      <td>...</td>\n",
       "      <td>331.0</td>\n",
       "      <td>0</td>\n",
       "      <td>34.0</td>\n",
       "      <td>209.0</td>\n",
       "      <td>45.0</td>\n",
       "      <td>4.0</td>\n",
       "      <td>223.0</td>\n",
       "      <td>481.0</td>\n",
       "      <td>NaN</td>\n",
       "      <td>No</td>\n",
       "    </tr>\n",
       "  </tbody>\n",
       "</table>\n",
       "<p>5 rows × 27 columns</p>\n",
       "</div>"
      ],
      "text/plain": [
       "   English language learners  Enrollment  Guidance counselors  \\\n",
       "0                        NaN        71.0                  NaN   \n",
       "1                      770.0      3790.0                  8.0   \n",
       "2                      436.0      5647.0                 15.0   \n",
       "3                      758.0     12479.0                 32.0   \n",
       "4                      368.0      8298.0                 17.0   \n",
       "\n",
       "   instructional_aides_fte  lea_admin_support_staff_fte  \\\n",
       "0                      NaN                          NaN   \n",
       "1                      NaN                          NaN   \n",
       "2                      NaN                          NaN   \n",
       "3                      NaN                          NaN   \n",
       "4                      NaN                          NaN   \n",
       "\n",
       "   lea_administrators_fte  librarian_specialists_fte  \\\n",
       "0                     NaN                        NaN   \n",
       "1                     2.0                        7.0   \n",
       "2                     2.0                       13.0   \n",
       "3                     2.0                       17.0   \n",
       "4                     1.0                       11.0   \n",
       "\n",
       "   librarian_support_staff_fte  number_of_schools  other_staff_fte  ...  \\\n",
       "0                          NaN                7.0                0  ...   \n",
       "1                          3.0                5.0                0  ...   \n",
       "2                          4.0               15.0                0  ...   \n",
       "3                         17.0               16.0                0  ...   \n",
       "4                          9.0               10.0                0  ...   \n",
       "\n",
       "   support_staff_other_fte  support_staff_stu_wo_psych_fte  \\\n",
       "0                      NaN                               0   \n",
       "1                    134.0                               0   \n",
       "2                    294.0                               0   \n",
       "3                    744.0                               0   \n",
       "4                    331.0                               0   \n",
       "\n",
       "   support_staff_students_fte  teachers_elementary_fte  \\\n",
       "0                         NaN                      NaN   \n",
       "1                        10.0                    111.0   \n",
       "2                        17.0                    180.0   \n",
       "3                        45.0                    447.0   \n",
       "4                        34.0                    209.0   \n",
       "\n",
       "   teachers_kindergarten_fte  teachers_prek_fte  teachers_secondary_fte  \\\n",
       "0                        NaN                NaN                     NaN   \n",
       "1                       24.0                1.0                    89.0   \n",
       "2                       38.0                5.0                   167.0   \n",
       "3                      101.0                9.0                   457.0   \n",
       "4                       45.0                4.0                   223.0   \n",
       "\n",
       "   teachers_total_fte  teachers_ungraded_fte  migrantYN  \n",
       "0                 NaN                    NaN         No  \n",
       "1               225.0                    NaN         No  \n",
       "2               390.0                    NaN         No  \n",
       "3              1015.0                    NaN         No  \n",
       "4               481.0                    NaN         No  \n",
       "\n",
       "[5 rows x 27 columns]"
      ]
     },
     "execution_count": 33,
     "metadata": {},
     "output_type": "execute_result"
    }
   ],
   "source": [
    "# change all negative numbers to nan\n",
    "df = df.replace(-1, np.nan)\n",
    "df = df.replace(-2, np.nan)\n",
    "df.head()"
   ]
  },
  {
   "cell_type": "markdown",
   "metadata": {},
   "source": [
    "## Exploratory Data Analysis\n",
    "\n",
    "As we have seen in past labs, we typically want to get inside and explore the data a bit before doing analysis."
   ]
  },
  {
   "cell_type": "code",
   "execution_count": 34,
   "metadata": {},
   "outputs": [
    {
     "name": "stdout",
     "output_type": "stream",
     "text": [
      "(18074, 27)\n"
     ]
    }
   ],
   "source": [
    "#Check the number of rows and columns in the dataset\n",
    "print(df.shape)"
   ]
  },
  {
   "cell_type": "code",
   "execution_count": 35,
   "metadata": {},
   "outputs": [
    {
     "name": "stdout",
     "output_type": "stream",
     "text": [
      "<class 'pandas.core.frame.DataFrame'>\n",
      "RangeIndex: 18074 entries, 0 to 18073\n",
      "Data columns (total 27 columns):\n",
      " #   Column                          Non-Null Count  Dtype  \n",
      "---  ------                          --------------  -----  \n",
      " 0   English language learners       12643 non-null  float64\n",
      " 1   Enrollment                      16676 non-null  float64\n",
      " 2   Guidance counselors             14801 non-null  float64\n",
      " 3   instructional_aides_fte         14772 non-null  float64\n",
      " 4   lea_admin_support_staff_fte     13640 non-null  float64\n",
      " 5   lea_administrators_fte          15658 non-null  float64\n",
      " 6   librarian_specialists_fte       14132 non-null  float64\n",
      " 7   librarian_support_staff_fte     11229 non-null  float64\n",
      " 8   number_of_schools               17834 non-null  float64\n",
      " 9   other_staff_fte                 18074 non-null  int64  \n",
      " 10  school_admin_support_staff_fte  14475 non-null  float64\n",
      " 11  school_administrators_fte       15759 non-null  float64\n",
      " 12  school_counselors_fte           18074 non-null  int64  \n",
      " 13  school_psychologists_fte        18074 non-null  int64  \n",
      " 14  school_staff_total_fte          18074 non-null  int64  \n",
      " 15  spec_ed_students                13754 non-null  float64\n",
      " 16  supervisory_union_number        17834 non-null  float64\n",
      " 17  support_staff_other_fte         14684 non-null  float64\n",
      " 18  support_staff_stu_wo_psych_fte  18074 non-null  int64  \n",
      " 19  support_staff_students_fte      14654 non-null  float64\n",
      " 20  teachers_elementary_fte         15897 non-null  float64\n",
      " 21  teachers_kindergarten_fte       14428 non-null  float64\n",
      " 22  teachers_prek_fte               11919 non-null  float64\n",
      " 23  teachers_secondary_fte          15539 non-null  float64\n",
      " 24  teachers_total_fte              16422 non-null  float64\n",
      " 25  teachers_ungraded_fte           9622 non-null   float64\n",
      " 26  migrantYN                       18074 non-null  object \n",
      "dtypes: float64(21), int64(5), object(1)\n",
      "memory usage: 3.7+ MB\n",
      "None\n"
     ]
    }
   ],
   "source": [
    "## Get the data types of the columns\n",
    "print(df.info())"
   ]
  },
  {
   "cell_type": "markdown",
   "metadata": {},
   "source": [
    "### Check for missing values"
   ]
  },
  {
   "cell_type": "code",
   "execution_count": 36,
   "metadata": {},
   "outputs": [
    {
     "name": "stdout",
     "output_type": "stream",
     "text": [
      "English language learners         5431\n",
      "Enrollment                        1398\n",
      "Guidance counselors               3273\n",
      "instructional_aides_fte           3302\n",
      "lea_admin_support_staff_fte       4434\n",
      "lea_administrators_fte            2416\n",
      "librarian_specialists_fte         3942\n",
      "librarian_support_staff_fte       6845\n",
      "number_of_schools                  240\n",
      "other_staff_fte                      0\n",
      "school_admin_support_staff_fte    3599\n",
      "school_administrators_fte         2315\n",
      "school_counselors_fte                0\n",
      "school_psychologists_fte             0\n",
      "school_staff_total_fte               0\n",
      "spec_ed_students                  4320\n",
      "supervisory_union_number           240\n",
      "support_staff_other_fte           3390\n",
      "support_staff_stu_wo_psych_fte       0\n",
      "support_staff_students_fte        3420\n",
      "teachers_elementary_fte           2177\n",
      "teachers_kindergarten_fte         3646\n",
      "teachers_prek_fte                 6155\n",
      "teachers_secondary_fte            2535\n",
      "teachers_total_fte                1652\n",
      "teachers_ungraded_fte             8452\n",
      "migrantYN                            0\n",
      "dtype: int64\n"
     ]
    }
   ],
   "source": [
    "print(df.isnull().sum(axis=0))"
   ]
  },
  {
   "cell_type": "code",
   "execution_count": 37,
   "metadata": {},
   "outputs": [
    {
     "name": "stdout",
     "output_type": "stream",
     "text": [
      "(16676, 27)\n"
     ]
    }
   ],
   "source": [
    "# drop rows with missing enrollment\n",
    "df = df.dropna(subset=['Enrollment'])\n",
    "print(df.shape)"
   ]
  },
  {
   "cell_type": "markdown",
   "metadata": {},
   "source": [
    "Let's check unique values for categorical columns. \n",
    "\n",
    "Common options for handling unusual data include;\n",
    "\n",
    "(1) replace un-expected values it with the most frequent value (for categorical columns), and with the mean value (for numerical columns)\n",
    "\n",
    "(2) delete the row with missing or unusual values \n",
    "\n",
    "There are a lot of missing values in `sex` column, make a conscious decision on how to handle them.\n",
    "\n",
    "Write two+ lines on what procedure and logic you used to make that decision. \n",
    " \n",
    "For example, you can write, \"I chose to replace values for Adelie penguins on Torgersen island to be all male (or x% male and (1-x)% female)... I chose this procedure because number of penguins male penguins were underrepresented (a usual ratio is for mammels is around 55% female and 45% males)\"replace the missing values with the most frequent value in the column."
   ]
  },
  {
   "cell_type": "code",
   "execution_count": 38,
   "metadata": {},
   "outputs": [
    {
     "name": "stdout",
     "output_type": "stream",
     "text": [
      "['No' 'Yes']\n"
     ]
    }
   ],
   "source": [
    "print(df['migrantYN'].unique()) # print islands of penguins"
   ]
  },
  {
   "cell_type": "code",
   "execution_count": 39,
   "metadata": {},
   "outputs": [
    {
     "data": {
      "image/png": "[encoded data removed]",
      "text/plain": [
       "<Figure size 640x480 with 1 Axes>"
      ]
     },
     "metadata": {},
     "output_type": "display_data"
    }
   ],
   "source": [
    "# plot the number of penguins in each island\n",
    "sns.countplot(x='migrantYN', data=df)\n",
    "plt.show()"
   ]
  },
  {
   "cell_type": "code",
   "execution_count": 40,
   "metadata": {},
   "outputs": [
    {
     "name": "stdout",
     "output_type": "stream",
     "text": [
      "migrantYN\n",
      "No     169.287617\n",
      "Yes    718.444717\n",
      "Name: English language learners, dtype: float64\n"
     ]
    },
    {
     "data": {
      "text/plain": [
       "<AxesSubplot:xlabel='migrantYN', ylabel='English language learners'>"
      ]
     },
     "execution_count": 40,
     "metadata": {},
     "output_type": "execute_result"
    },
    {
     "data": {
      "image/png": "[encoded data removed]",
      "text/plain": [
       "<Figure size 640x480 with 1 Axes>"
      ]
     },
     "metadata": {},
     "output_type": "display_data"
    }
   ],
   "source": [
    "# get average English language learners for migrant==Yes and migrant==No\n",
    "print(df.groupby('migrantYN')['English language learners'].mean())\n",
    "\n",
    "# plot the average English language learners for migrant==Yes and migrant==No\n",
    "sns.barplot(x='migrantYN', y='English language learners', data=df)"
   ]
  },
  {
   "cell_type": "code",
   "execution_count": 41,
   "metadata": {},
   "outputs": [
    {
     "data": {
      "text/plain": [
       "English language learners         0\n",
       "Enrollment                        0\n",
       "Guidance counselors               0\n",
       "instructional_aides_fte           0\n",
       "lea_admin_support_staff_fte       0\n",
       "lea_administrators_fte            0\n",
       "librarian_specialists_fte         0\n",
       "librarian_support_staff_fte       0\n",
       "number_of_schools                 0\n",
       "other_staff_fte                   0\n",
       "school_admin_support_staff_fte    0\n",
       "school_administrators_fte         0\n",
       "school_counselors_fte             0\n",
       "school_psychologists_fte          0\n",
       "school_staff_total_fte            0\n",
       "spec_ed_students                  0\n",
       "supervisory_union_number          0\n",
       "support_staff_other_fte           0\n",
       "support_staff_stu_wo_psych_fte    0\n",
       "support_staff_students_fte        0\n",
       "teachers_elementary_fte           0\n",
       "teachers_kindergarten_fte         0\n",
       "teachers_prek_fte                 0\n",
       "teachers_secondary_fte            0\n",
       "teachers_total_fte                0\n",
       "teachers_ungraded_fte             0\n",
       "migrantYN                         0\n",
       "dtype: int64"
      ]
     },
     "execution_count": 41,
     "metadata": {},
     "output_type": "execute_result"
    }
   ],
   "source": [
    "# filling all missing values with the mean of the column\n",
    "\n",
    "columns_list = []\n",
    "for i in df.columns[:-1]:\n",
    "    columns_list.append(i)\n",
    "\n",
    "for i in columns_list:\n",
    "    df[i] = df[i].fillna(value = df[i].mean())\n",
    "\n",
    "df.isna().sum() # check that there are no more missing values"
   ]
  },
  {
   "cell_type": "code",
   "execution_count": 55,
   "metadata": {},
   "outputs": [
    {
     "name": "stdout",
     "output_type": "stream",
     "text": [
      "English language learners 16676\n",
      "Enrollment 16676\n",
      "Guidance counselors 16676\n",
      "instructional_aides_fte 16676\n",
      "lea_admin_support_staff_fte 16676\n",
      "lea_administrators_fte 16676\n",
      "librarian_specialists_fte 16676\n",
      "librarian_support_staff_fte 16676\n",
      "number_of_schools 16676\n",
      "other_staff_fte 16676\n",
      "school_admin_support_staff_fte 16676\n",
      "school_administrators_fte 16676\n",
      "school_counselors_fte 16676\n",
      "school_psychologists_fte 16676\n",
      "school_staff_total_fte 16676\n",
      "spec_ed_students 16676\n",
      "supervisory_union_number 16676\n",
      "support_staff_other_fte 16676\n",
      "support_staff_stu_wo_psych_fte 16676\n",
      "support_staff_students_fte 16676\n",
      "teachers_elementary_fte 16676\n",
      "teachers_kindergarten_fte 16676\n",
      "teachers_prek_fte 16676\n",
      "teachers_secondary_fte 16676\n",
      "teachers_total_fte 16676\n",
      "teachers_ungraded_fte 16676\n",
      "migrantYN 16676\n"
     ]
    }
   ],
   "source": [
    "# get the length of every column\n",
    "for i in df.columns:\n",
    "    print(i, len(df[i]))\n"
   ]
  },
  {
   "cell_type": "markdown",
   "metadata": {},
   "source": [
    "# Seperate the dataset into features and labels"
   ]
  },
  {
   "cell_type": "code",
   "execution_count": 56,
   "metadata": {},
   "outputs": [],
   "source": [
    "from sklearn.model_selection import train_test_split # import train_test_split function\n",
    "from sklearn.preprocessing import StandardScaler # import StandardScaler\n",
    "\n",
    "# Split dataset into features (x) and target variable (y)\n",
    "X = df.drop(['migrantYN'], axis=1) # X is all the columns except species\n",
    "y = df['migrantYN'] # y is the species column\n",
    "\n",
    "scalar = StandardScaler() # create a scaler object\n",
    "scalar.fit(X) # fit the scaler to the features\n",
    "X = scalar.transform(X) \n",
    "\n",
    "#X_train, X_test, y_train, y_test = train_test_split(X, y, test_size=0.2, random_state=42)"
   ]
  },
  {
   "cell_type": "markdown",
   "metadata": {},
   "source": [
    "# Perform K-means"
   ]
  },
  {
   "cell_type": "code",
   "execution_count": 57,
   "metadata": {},
   "outputs": [],
   "source": [
    "from statistics import mode\n",
    "import numpy as np\n",
    "import pandas as pd\n",
    "import matplotlib.pyplot as plt\n",
    "from sklearn.cluster import KMeans\n",
    "from scipy.spatial.distance import cdist \n",
    "from sklearn.metrics import classification_report, confusion_matrix, ConfusionMatrixDisplay,accuracy_score\n",
    "from threadpoolctl import threadpool_limits\n"
   ]
  },
  {
   "cell_type": "code",
   "execution_count": 58,
   "metadata": {},
   "outputs": [
    {
     "data": {
      "text/html": [
       "<div>\n",
       "<style scoped>\n",
       "    .dataframe tbody tr th:only-of-type {\n",
       "        vertical-align: middle;\n",
       "    }\n",
       "\n",
       "    .dataframe tbody tr th {\n",
       "        vertical-align: top;\n",
       "    }\n",
       "\n",
       "    .dataframe thead th {\n",
       "        text-align: right;\n",
       "    }\n",
       "</style>\n",
       "<table border=\"1\" class=\"dataframe\">\n",
       "  <thead>\n",
       "    <tr style=\"text-align: right;\">\n",
       "      <th></th>\n",
       "      <th>Cluster</th>\n",
       "      <th>Distortion</th>\n",
       "      <th>Inertia</th>\n",
       "    </tr>\n",
       "  </thead>\n",
       "  <tbody>\n",
       "    <tr>\n",
       "      <th>0</th>\n",
       "      <td>1</td>\n",
       "      <td>1.531624</td>\n",
       "      <td>350196.000000</td>\n",
       "    </tr>\n",
       "    <tr>\n",
       "      <th>1</th>\n",
       "      <td>2</td>\n",
       "      <td>1.405160</td>\n",
       "      <td>219474.382035</td>\n",
       "    </tr>\n",
       "    <tr>\n",
       "      <th>2</th>\n",
       "      <td>3</td>\n",
       "      <td>1.246938</td>\n",
       "      <td>163630.301676</td>\n",
       "    </tr>\n",
       "    <tr>\n",
       "      <th>3</th>\n",
       "      <td>4</td>\n",
       "      <td>1.197275</td>\n",
       "      <td>130396.765683</td>\n",
       "    </tr>\n",
       "    <tr>\n",
       "      <th>4</th>\n",
       "      <td>5</td>\n",
       "      <td>1.112973</td>\n",
       "      <td>115074.079469</td>\n",
       "    </tr>\n",
       "    <tr>\n",
       "      <th>5</th>\n",
       "      <td>6</td>\n",
       "      <td>1.111899</td>\n",
       "      <td>100052.112334</td>\n",
       "    </tr>\n",
       "    <tr>\n",
       "      <th>6</th>\n",
       "      <td>7</td>\n",
       "      <td>1.109342</td>\n",
       "      <td>87897.644313</td>\n",
       "    </tr>\n",
       "    <tr>\n",
       "      <th>7</th>\n",
       "      <td>8</td>\n",
       "      <td>1.013939</td>\n",
       "      <td>77840.256356</td>\n",
       "    </tr>\n",
       "    <tr>\n",
       "      <th>8</th>\n",
       "      <td>9</td>\n",
       "      <td>0.955510</td>\n",
       "      <td>73295.951176</td>\n",
       "    </tr>\n",
       "    <tr>\n",
       "      <th>9</th>\n",
       "      <td>10</td>\n",
       "      <td>0.949423</td>\n",
       "      <td>68666.954725</td>\n",
       "    </tr>\n",
       "  </tbody>\n",
       "</table>\n",
       "</div>"
      ],
      "text/plain": [
       "   Cluster  Distortion        Inertia\n",
       "0        1    1.531624  350196.000000\n",
       "1        2    1.405160  219474.382035\n",
       "2        3    1.246938  163630.301676\n",
       "3        4    1.197275  130396.765683\n",
       "4        5    1.112973  115074.079469\n",
       "5        6    1.111899  100052.112334\n",
       "6        7    1.109342   87897.644313\n",
       "7        8    1.013939   77840.256356\n",
       "8        9    0.955510   73295.951176\n",
       "9       10    0.949423   68666.954725"
      ]
     },
     "execution_count": 58,
     "metadata": {},
     "output_type": "execute_result"
    }
   ],
   "source": [
    "distortions = [] \n",
    "inertias = []\n",
    "k = 11\n",
    "  \n",
    "for k in range(1,k): \n",
    "    kmeanModel = KMeans(n_clusters=k,init = 'k-means++', random_state = 42)\n",
    "    kmeanModel.fit(X)     \n",
    "      \n",
    "    distortions.append(sum(np.min(cdist(X, kmeanModel.cluster_centers_, 'euclidean'),axis=1)) / X.shape[0]) \n",
    "    inertias.append(kmeanModel.inertia_) \n",
    "    evaluation = pd.DataFrame.from_records({'Cluster':np.arange(1,k+1), 'Distortion':distortions, 'Inertia':inertias})\n",
    "    \n",
    "evaluation"
   ]
  },
  {
   "cell_type": "code",
   "execution_count": 59,
   "metadata": {},
   "outputs": [
    {
     "data": {
      "text/plain": [
       "array([<AxesSubplot:xlabel='Cluster'>, <AxesSubplot:xlabel='Cluster'>],\n",
       "      dtype=object)"
      ]
     },
     "execution_count": 59,
     "metadata": {},
     "output_type": "execute_result"
    },
    {
     "data": {
      "image/png": "[encoded data removed]",
      "text/plain": [
       "<Figure size 640x480 with 2 Axes>"
      ]
     },
     "metadata": {},
     "output_type": "display_data"
    }
   ],
   "source": [
    "evaluation.plot.line(x = 'Cluster',subplots=True)"
   ]
  },
  {
   "cell_type": "code",
   "execution_count": 70,
   "metadata": {},
   "outputs": [
    {
     "data": {
      "image/png": "[encoded data removed]",
      "text/plain": [
       "<Figure size 640x480 with 1 Axes>"
      ]
     },
     "metadata": {},
     "output_type": "display_data"
    }
   ],
   "source": [
    "# K means with 4 clusters\n",
    "kmeans = KMeans(n_clusters=4, init = 'k-means++', random_state = 42)\n",
    "kmeans.fit(X)\n",
    "y_kmeans = kmeans.predict(X)\n",
    "\n",
    "# plot the clusters\n",
    "plt.scatter(X[:, 0], X[:, 1], c=y_kmeans, s=50, cmap='viridis')\n",
    "centers = kmeans.cluster_centers_\n",
    "plt.scatter(centers[:, 0], centers[:, 1], c='black', s=200, alpha=0.5);\n",
    "plt.show()"
   ]
  },
  {
   "cell_type": "markdown",
   "metadata": {},
   "source": [
    "# Perform DBSCAN and predict the labels"
   ]
  },
  {
   "cell_type": "code",
   "execution_count": 60,
   "metadata": {},
   "outputs": [],
   "source": [
    "import numpy as np\n",
    "\n",
    "from sklearn.cluster import DBSCAN\n",
    "from sklearn import metrics\n",
    "from sklearn.datasets import make_blobs\n",
    "from sklearn.preprocessing import StandardScaler"
   ]
  },
  {
   "cell_type": "code",
   "execution_count": 63,
   "metadata": {},
   "outputs": [],
   "source": [
    "from sklearn.cluster import DBSCAN\n",
    "\n",
    "db = DBSCAN(eps=2.5, min_samples=2).fit(X)\n",
    "core_samples_mask = np.zeros_like(db.labels_, dtype=bool)\n",
    "core_samples_mask[db.core_sample_indices_] = True\n",
    "labels = db.labels_"
   ]
  },
  {
   "cell_type": "code",
   "execution_count": 65,
   "metadata": {},
   "outputs": [
    {
     "data": {
      "image/png": "[encoded data removed]",
      "text/plain": [
       "<Figure size 640x480 with 1 Axes>"
      ]
     },
     "metadata": {},
     "output_type": "display_data"
    }
   ],
   "source": [
    "# Number of clusters in labels, ignoring noise if present.\n",
    "n_clusters_ = len(set(labels)) - (1 if -1 in labels else 0)\n",
    "n_noise_ = list(labels).count(-1)\n",
    "\n",
    "import matplotlib.pyplot as plt\n",
    "\n",
    "# Black removed and is used for noise instead.\n",
    "unique_labels = set(labels)\n",
    "colors = [plt.cm.Spectral(each) for each in np.linspace(0, 1, len(unique_labels))]\n",
    "for k, col in zip(unique_labels, colors):\n",
    "    if k == -1:\n",
    "        # Black used for noise.\n",
    "        col = [0, 0, 0, 1]\n",
    "\n",
    "    class_member_mask = labels == k\n",
    "\n",
    "    xy = X[class_member_mask & core_samples_mask]\n",
    "    plt.plot(\n",
    "        xy[:, 0],\n",
    "        xy[:, 1],\n",
    "        \"o\",\n",
    "        markerfacecolor=tuple(col),\n",
    "        markeredgecolor=\"k\",\n",
    "        markersize=14,\n",
    "    )\n",
    "\n",
    "    xy = X[class_member_mask & ~core_samples_mask]\n",
    "    plt.plot(\n",
    "        xy[:, 0],\n",
    "        xy[:, 1],\n",
    "        \"o\",\n",
    "        markerfacecolor=tuple(col),\n",
    "        markeredgecolor=\"k\",\n",
    "        markersize=6,\n",
    "    )\n",
    "\n",
    "plt.title(\"Estimated number of clusters: %d\" % n_clusters_)\n",
    "plt.show()"
   ]
  },
  {
   "cell_type": "markdown",
   "metadata": {},
   "source": [
    "# Agglomerative Clustering (Hierarchical clustering)"
   ]
  },
  {
   "cell_type": "code",
   "execution_count": 66,
   "metadata": {},
   "outputs": [],
   "source": [
    "from scipy.cluster.hierarchy import dendrogram, linkage\n",
    "from sklearn.cluster import AgglomerativeClustering\n",
    "\n",
    "model = AgglomerativeClustering().fit(X)\n",
    "labels = model.labels_"
   ]
  },
  {
   "cell_type": "markdown",
   "metadata": {},
   "source": [
    " ### Plot the clusters for Agglomerative Clustering"
   ]
  },
  {
   "cell_type": "code",
   "execution_count": 67,
   "metadata": {},
   "outputs": [
    {
     "data": {
      "text/plain": [
       "<matplotlib.lines.Line2D at 0x7f99698bfa90>"
      ]
     },
     "execution_count": 67,
     "metadata": {},
     "output_type": "execute_result"
    },
    {
     "data": {
      "image/png": "[encoded data removed]",
      "text/plain": [
       "<Figure size 640x480 with 1 Axes>"
      ]
     },
     "metadata": {},
     "output_type": "display_data"
    }
   ],
   "source": [
    "Z = linkage(X, method='ward') # method can be single, complete, average, centroid, median, ward\n",
    "dend = dendrogram(Z)\n",
    "plt.axhline(y=5, color='r', linestyle='--', label='5')"
   ]
  },
  {
   "cell_type": "markdown",
   "metadata": {},
   "source": [
    "# Mean Shift"
   ]
  },
  {
   "cell_type": "code",
   "execution_count": 68,
   "metadata": {},
   "outputs": [
    {
     "name": "stdout",
     "output_type": "stream",
     "text": [
      "number of estimated clusters : 480\n"
     ]
    }
   ],
   "source": [
    "from sklearn.cluster import MeanShift, estimate_bandwidth\n",
    "from itertools import cycle\n",
    "\n",
    "model = MeanShift(bandwidth=2).fit(X)\n",
    "labels = model.labels_\n",
    "cluster_centers = model.cluster_centers_\n",
    "labels_unique = np.unique(labels)\n",
    "n_clusters_ = len(labels_unique)\n",
    "print(\"number of estimated clusters : %d\" % n_clusters_)"
   ]
  },
  {
   "cell_type": "markdown",
   "metadata": {},
   "source": [
    " ### Plot the clusters for Mean Shift Clustering"
   ]
  },
  {
   "cell_type": "code",
   "execution_count": 69,
   "metadata": {},
   "outputs": [
    {
     "data": {
      "image/png": "[encoded data removed]",
      "text/plain": [
       "<Figure size 640x480 with 1 Axes>"
      ]
     },
     "metadata": {},
     "output_type": "display_data"
    }
   ],
   "source": [
    "import matplotlib.pyplot as plt\n",
    "from itertools import cycle\n",
    "\n",
    "plt.figure(1)\n",
    "plt.clf()\n",
    "\n",
    "colors = cycle(\"bgrcmykbgrcmykbgrcmykbgrcmyk\")\n",
    "for k, col in zip(range(n_clusters_), colors):\n",
    "    my_members = labels == k\n",
    "    cluster_center = cluster_centers[k]\n",
    "    plt.plot(X[my_members, 0], X[my_members, 1], col + \".\")\n",
    "    plt.plot(\n",
    "        cluster_center[0],\n",
    "        cluster_center[1],\n",
    "        \"o\",\n",
    "        markerfacecolor=col,\n",
    "        markeredgecolor=\"k\",\n",
    "        markersize=14,\n",
    "    )\n",
    "plt.title(\"Estimated number of clusters: %d\" % n_clusters_)\n",
    "plt.show()"
   ]
  }
 ],
 "metadata": {
  "kernelspec": {
   "display_name": "Python 3 (ipykernel)",
   "language": "python",
   "name": "python3"
  },
  "language_info": {
   "codemirror_mode": {
    "name": "ipython",
    "version": 3
   },
   "file_extension": ".py",
   "mimetype": "text/x-python",
   "name": "python",
   "nbconvert_exporter": "python",
   "pygments_lexer": "ipython3",
   "version": "3.9.7"
  },
  "vscode": {
   "interpreter": {
    "hash": "f75bc8446c94e3689055a18017573334e0a773cb1d1589a7fad01c467977f447"
   }
  }
 },
 "nbformat": 4,
 "nbformat_minor": 4
}
