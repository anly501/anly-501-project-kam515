{
 "cells": [
  {
   "cell_type": "code",
   "execution_count": 27,
   "metadata": {},
   "outputs": [],
   "source": [
    "import requests\n",
    "import json\n",
    "import pandas as pd"
   ]
  },
  {
   "cell_type": "code",
   "execution_count": 28,
   "metadata": {},
   "outputs": [],
   "source": [
    "f = open(\"/Users/katherinemead/Documents/GitHub/anly-501-project-kam515/data/00-raw-data/K-12_education_US.json\")\n",
    "data = json.load(f)\n",
    "\n",
    "titles = []\n",
    "descriptions = []\n",
    "for i in data['articles']:\n",
    "    titles.append(i['title'])\n",
    "    descriptions.append(i['description'])\n",
    "\n",
    "df = pd.DataFrame({'title': titles, 'description': descriptions})\n"
   ]
  },
  {
   "cell_type": "code",
   "execution_count": 30,
   "metadata": {},
   "outputs": [
    {
     "name": "stderr",
     "output_type": "stream",
     "text": [
      "/opt/anaconda3/envs/ANLY501/lib/python3.10/site-packages/scipy/__init__.py:146: UserWarning: A NumPy version >=1.16.5 and <1.23.0 is required for this version of SciPy (detected version 1.23.1\n",
      "  warnings.warn(f\"A NumPy version >={np_minversion} and <{np_maxversion}\"\n"
     ]
    }
   ],
   "source": [
    "from sklearn.feature_extraction.text import CountVectorizer"
   ]
  },
  {
   "cell_type": "code",
   "execution_count": null,
   "metadata": {},
   "outputs": [],
   "source": [
    "vectorizer = CountVectorizer()\n",
    "vectorizer.fit(titles)\n",
    "print(vectorizer.vocabulary_)\n",
    "\n"
   ]
  },
  {
   "cell_type": "code",
   "execution_count": 36,
   "metadata": {},
   "outputs": [
    {
     "name": "stdout",
     "output_type": "stream",
     "text": [
      "{'as': 112, 'our': 722, 'summer': 977, 'of': 694, 'maker': 610, 'camp': 174, '2022': 18, 'comes': 225, 'to': 1026, 'close': 210, 'the': 1003, 'team': 993, 'wants': 1094, 'highlight': 471, 'some': 941, 'amazing': 73, 'programs': 793, 'hosted': 480, 'by': 169, 'campsites': 177, 'today': 1027, 'we': 1103, 're': 819, 'celebrating': 190, 'rutgers': 871, 'center': 191, 'for': 393, 'mathematics': 622, 'science': 883, 'and': 83, 'computer': 237, 'education': 338, 'cmsce': 213, 'camps': 176, 'from': 406, 'so': 933, 'many': 615, 'florida': 388, 'teachers': 991, 'have': 454, 'abandoned': 37, 'their': 1004, 'profession': 790, 'in': 497, 'recent': 828, 'years': 1142, 'that': 1002, 'state': 956, 'is': 528, 'inviting': 527, 'military': 640, 'veterans': 1086, 'with': 1129, 'no': 677, 'prior': 779, 'teaching': 992, 'experience': 361, 'lead': 563, 'classrooms': 208, 'while': 1118, 'they': 1011, 'earn': 330, 'credentials': 261, 'los': 604, 'angeles': 85, 'unified': 1058, 'school': 881, 'district': 304, 'lausd': 560, 'has': 452, 'confirmed': 239, 'it': 530, 'was': 1098, 'hit': 475, 'ransomware': 817, 'attack': 116, 'causing': 187, 'ongoing': 706, 'technical': 995, 'disruptions': 302, 'report': 844, 'second': 888, 'largest': 555, 'after': 62, 'new': 673, 'york': 1145, 'city': 203, 'department': 284, 'educati': 337, 'not': 682, 'banned': 126, '25': 25, 'book': 154, 'titles': 1025, 'including': 499, 'john': 535, 'steinbeck': 960, 'mice': 634, 'men': 633, 'harper': 450, 'lee': 571, 'kill': 548, 'mockingbird': 646, 'being': 139, 'woke': 1130, 'despite': 287, 'claims': 204, 'social': 934, 'media': 629, 'users': 1075, 'over': 725, '600': 36, '000': 0, 'students': 969, 'suffers': 974, 'significant': 924, 'infrastructure': 512, 'disruption': 301, 'but': 168, 'classes': 205, 'set': 907, 'take': 982, 'place': 750, 'usualhackers': 1077, 'targeted': 987, 'us': 1071, 'cyber': 270, 'labor': 552, 'day': 275, 'weekend': 1107, 'officials': 699, 'at': 115, 'ange': 84, 'texas': 1000, 'law': 561, 'mandates': 614, 'hanging': 447, 'posters': 768, 'which': 1117, 'must': 662, 'an': 80, 'american': 75, 'flag': 386, 'under': 1052, 'motto': 656, 'only': 708, 'if': 488, 'are': 105, 'donated': 315, 'student': 968, 'population': 764, 'public': 799, 'schools': 882, 'grown': 438, 'significantly': 925, 'more': 653, 'diverse': 306, 'segregation': 893, 'remains': 840, 'persistent': 745, 'problem': 786, 'found': 398, 'federal': 373, 'enforcement': 347, 'said': 872, 'anticipate': 93, 'attacks': 117, 'against': 64, 'may': 625, 'increase': 503, '2023': 19, 'year': 1141, 'begins': 137, 'during': 328, 'pandemic': 730, 'saw': 877, 'biggest': 146, 'declines': 278, 'academic': 42, 'achievement': 47, 'recorded': 833, 'last': 556, '50': 33, 'lgbtq': 583, 'educators': 340, 'describe': 286, 'widespread': 1122, 'confusion': 241, 'how': 482, 'much': 660, 'need': 670, 'hide': 467, 'own': 727, 'identities': 485, 'limit': 590, 'discussion': 298, 'people': 740, 'or': 715, 'history': 474, 'notify': 685, 'parents': 731, 'out': 723, 'them': 1005, 'comprehensive': 235, 'age': 65, 'appropriate': 102, 'sex': 909, 'ed': 334, 'all': 69, 'kinds': 549, 'emotional': 344, 'benefits': 142, 'researchers': 849, 'say': 878, 'here': 465, 'what': 1113, 'looks': 603, 'like': 588, 'through': 1020, '12': 4, 'policy': 760, 'says': 879, 'corporal': 252, 'punishment': 802, 'will': 1124, 'be': 129, 'used': 1074, 'when': 1114, 'other': 720, 'forms': 396, 'discipline': 296, 'failed': 364, 'then': 1007, 'superintendent': 978, 'permission': 744, 'had': 443, 'dropped': 325, 'practice': 770, '2001': 12, 'narrative': 665, 'doesn': 312, 'match': 619, 'numbers': 688, 'hard': 449, 'truth': 1044, 'ai': 67, 'omnipresent': 702, 'fbi': 371, 'warns': 1096, 'vice': 1087, 'society': 936, 'threat': 1019, 'group': 436, 'ramping': 813, 'up': 1066, 'on': 703, 'sector': 890, 'districts': 305, 'just': 541, 'around': 109, 'country': 256, 'return': 857, 'classroom': 207, 'comments': 226, 'karla': 544, 'hernández': 466, 'mats': 623, 'been': 135, 'president': 776, 'united': 1060, 'dade': 271, 'since': 928, '2016': 15, 'rivka': 863, 'galchen': 413, 'recently': 829, 'updated': 1068, 'california': 172, 'framework': 401, 'debate': 276, 'whether': 1116, 'changes': 196, 'privilege': 783, 'gap': 416, 'negatively': 672, 'impact': 493, 'color': 219, 'lessen': 577, 'likelihood': 589, 'marginalized': 617, 'pursue': 805, 'coll': 215, 'why': 1121, 'boys': 158, 'should': 918, 'start': 953, 'later': 557, 'than': 1001, 'girls': 422, 'prioritizing': 780, 'educational': 339, 'technology': 996, 'tools': 1032, 'mobile': 645, 'flexible': 387, 'allowing': 70, 'learning': 568, 'happen': 448, 'outside': 724, '42': 32, 'percent': 742, 'americans': 76, 'completely': 234, 'somewhat': 942, 'satisfied': 875, 'states': 958, 'compared': 232, '51': 35, '2019': 16, 'hallway': 445, 'model': 647, 'architecture': 104, 'instead': 515, 'forward': 397, 'thinking': 1013, 'feature': 372, 'spaces': 946, 'wellness': 1111, 'rooms': 867, 'touch': 1035, 'free': 403, 'lighting': 587, 'plumbing': 757, 'course': 258, 'souped': 943, 'hvac': 483, 'optimum': 712, 'ventilation': 1084, 'matters': 624, 'lots': 605, 'one': 705, 'most': 655, 'horrific': 479, 'milestones': 639, 'any': 95, 'child': 198, 'moment': 648, 'spot': 950, 'teacher': 990, 'forever': 394, 'shattering': 914, 'illusion': 490, 'don': 314, 'live': 594, 'unfortunately': 1056, 'unlucky': 1064, 'kids': 547, 'milpitas': 642, 'four': 400, 'nonprofits': 679, 'development': 289, 'office': 698, 'next': 676, 'national': 667, 'plan': 752, 'yq': 1151, 'earnings': 331, 'call': 173, 'period': 743, 'ending': 346, 'june': 540, '30': 28, 'companies': 230, 'increasingly': 506, 'feeling': 375, 'pressure': 777, 'respond': 851, 'movements': 657, 'inequality': 509, 'far': 370, 'too': 1029, 'tend': 998, 'reactively': 822, 'making': 611, 'donation': 316, 'statement': 957, 'taking': 983, 'proactive': 785, 'measures': 628, 'build': 164, 'equity': 352, 'inclusion': 500, 'story': 962, 'seen': 892, 'lens': 576, 'nation': 666, 'cards': 183, 'compromised': 236, 'data': 273, 'shows': 919, 'gun': 442, 'campuses': 179, 'reached': 821, 'highest': 470, 'level': 580, '20': 11, '2020': 17, '21': 22, 'term': 999, 'organizational': 717, 'enhancements': 348, 'drive': 324, 'growth': 441, 'digital': 293, 'transformation': 1038, 'market': 618, 'leader': 564, 'columbus': 221, 'ohio': 700, 'aug': 121, '18': 9, 'globe': 425, 'newswire': 675, 'intellinetics': 520, 'blue': 151, 'origin': 719, 'plans': 754, 'launch': 559, 'its': 531, 'space': 945, 'mission': 644, 'wednesday': 1105, 'morning': 654, '31': 29, 'you': 1147, 'can': 180, 'watch': 1099, 'uncrewed': 1051, 'action': 50, 'senator': 899, 'ames': 77, 'dollars': 313, 'gop': 428, 'budgets': 163, 'fallen': 368, 'billion': 149, 'short': 916, 'inflation': 510, 'six': 931, 'xanedu': 1140, 'inc': 498, 'provider': 796, 'content': 246, 'curriculum': 269, 'services': 904, 'higher': 469, 'announces': 89, 'formation': 395, 'scholarus': 880, 'according': 46, 'study': 970, 'published': 800, 'reports': 845, 'titled': 1024, 'global': 424, 'types': 1050, 'private': 782, 'online': 707, 'boom': 155, 'tech': 994, 'jobs': 534, 'coronavirus': 251, 'preparing': 772, 'yorkers': 1146, 'underrepresented': 1053, 'communities': 228, 'these': 1010, 'positions': 766, 'top': 1033, 'priority': 781, 'edtech': 336, 'geography': 420, 'north': 680, 'america': 74, 'europe': 354, 'apac': 97, 'south': 944, 'middle': 637, 'east': 333, 'africa': 61, 'others': 721, 'malvern': 612, 'pa': 729, 'sept': 901, '09': 2, 'frontline': 407, 'leading': 565, 'administration': 56, 'software': 937, 'purpose': 804, 'built': 166, 'joint': 537, 'offering': 696, 'addresses': 54, 'shortage': 917, 'helping': 463, 'accelerate': 44, 'placement': 751, 'ratesmalvern': 818, 'chicago': 197, 'ill': 489, '14': 5, 'unhappy': 1057, 'current': 267, 'system': 980, 'thursday': 1021, 'poll': 761, 'implosion': 494, 'update': 1067, 'desantis': 285, 'signs': 926, 'amid': 78, 'colleges': 217, 'initiatives': 514, 'difficult': 292, 'believe': 140, 'longer': 601, 'do': 309, 'dissatisfied': 303, 'billboards': 148, 'starting': 954, 'tv': 1047, 'campaign': 175, 'focused': 390, 'transgender': 1039, 'women': 1131, 'sports': 949, 'anti': 92, 'defamation': 279, 'league': 566, 'adl': 55, 'review': 858, 'materials': 620, 'provided': 795, 'bias': 143, 'training': 1037, 'evidence': 357, 'critical': 263, 'race': 810, 'theory': 1008, 'radical': 811, 'left': 572, 'wing': 1126, 'ideologies': 487, 'such': 972, 'intersectionality': 522, 'math': 621, 'provokes': 798, 'dread': 322, 'yet': 1144, 'born': 156, 'sense': 900, 'definitions': 280, 'money': 649, 'management': 613, 'saving': 876, 'investing': 525, 'retirement': 856, 'planning': 753, 'loans': 597, 'topics': 1034, 'improve': 496, 'your': 1149, 'financial': 379, 'literacy': 593, 'illustration': 491, 'elizabeth': 343, 'brockway': 162, 'daily': 272, 'beast': 131, 'midst': 638, 'legislative': 575, 'war': 1095, 'heart': 458, 'this': 1015, 'conflict': 240, 'gag': 411, 'orders': 716, 'attempts': 118, 'restrict': 853, 'nothing': 684, 'dramatic': 319, 'having': 455, 'college': 216, 'board': 153, 'ap': 96, 'field': 377, 'henry': 464, 'louis': 606, 'gates': 418, 'jr': 539, 'who': 1120, 'helped': 462, 'develop': 288, 'val': 1081, 'verde': 1085, 'shares': 912, 'exciting': 359, 'opportunities': 710, 'upgrades': 1069, 'his': 473, 'staff': 952, 'also': 71, 'using': 1076, 'average': 122, '417': 31, 'different': 291, 'per': 741, 'month': 651, 'company': 231, 'learnplatform': 569, 'professionals': 791, 'arkansas': 108, 'registered': 836, 'university': 1062, 'high': 468, 'counselor': 255, 'workshop': 1136, 'took': 1030, 'atu': 120, 'williamson': 1125, 'hall': 444, 'russellville': 870, 'friday': 405, 'those': 1017, 'attendance': 119, 'learned': 567, 'latest': 558, 'satisfaction': 874, 'time': 1023, 'low': 607, 'gallup': 414, 'community': 229, 'members': 632, 'open': 709, 'classical': 206, 'academy': 43, 'cca': 188, 'trustees': 1043, 'lang': 554, 'nonprofit': 678, 'serving': 905, 'twice': 1048, 'exceptional': 358, '2e': 26, 'children': 199, 'appointed': 100, 'dr': 318, 'sue': 973, 'groesbeck': 435, 'come': 224, 'see': 891, 'antisemitism': 94, 'inherent': 513, 'leftism': 573, 'unions': 1059, 'semitism': 897, 'gain': 412, 'foothold': 392, 'efforts': 341, 'delegitimize': 282, 'jewish': 532, 'now': 686, 'moving': 658, 'falsely': 369, 'labe': 551, 'important': 495, 'rise': 861, 'above': 40, 'divisiveness': 308, 'invest': 524, 'bigger': 145, 'long': 600, 'goals': 426, 'share': 911, 'simba': 927, 'information': 511, 'although': 72, 'intensity': 521, 'drastic': 321, 'covid': 259, 'receded': 827, 'publishers': 801, 'robotic': 864, 'toolkits': 1031, '2026': 20, 'analyst': 82, 'monitoring': 650, 'poised': 759, 'grow': 437, '410': 30, '17': 8, 'million': 641, 'hath': 453, 'randi': 814, 'weingarten': 1108, 'wrought': 1139, 'plummeted': 758, 'both': 157, 'especially': 353, 'went': 1112, 'way': 1102, 'demonstrate': 283, 'dispensable': 300, 'folsom': 391, 'calif': 171, 'business': 167, 'wire': 1128, 'powerschool': 769, 'nyse': 690, 'pwsc': 806, 'cloud': 212, 'based': 127, 'announced': 88, 'winners': 1127, 'honor': 477, 'roll': 866, 'awards': 123, 'program': 792, 'celebrates': 189, 'recognizes': 831, 'cu': 265, 'ol': 701, 'li': 584, 'association': 113, 'reach': 820, 'conceptual': 238, 'agreement': 66, 'dispatch': 299, 'strike': 965, 'third': 1014, 'nbc': 669, 'news': 674, 'join': 536, 'picket': 748, 'lines': 591, 'unlike': 1063, 'adults': 57, 'suicide': 976, 'risk': 862, 'among': 79, 'lowest': 608, 'understanding': 1054, 'patterns': 736, 'help': 461, 'prevent': 778, 'treat': 1041, 'suicidality': 975, 'dreambox': 323, 'laid': 553, 'off': 695, 'undisclosed': 1055, 'number': 687, 'employees': 345, 'week': 1106, 'citing': 202, 'realignment': 825, 'seattle': 887, 'area': 106, 'founded': 399, '2006': 13, 'sells': 896, 'adapts': 52, 'individ': 507, 'micro': 636, 'transit': 1040, 'solutions': 939, 'enrichment': 349, 'disadvantaged': 294, 'owners': 728, 'benefit': 141, 'round': 868, 'grant': 433, 'funding': 410, 'northern': 681, 'thoma': 1016, 'bravo': 160, 'investment': 526, 'firm': 382, 'signed': 923, 'definitive': 281, 'sell': 895, 'senate': 898, 'shaping': 910, 'closely': 211, 'watched': 1100, 'first': 383, 'column': 222, '1st': 10, 'link': 592, 'related': 837, 'stories': 961, 'rubio': 869, 'libertarian': 585, 'challenger': 195, 'blasts': 150, 'him': 472, 'socialist': 935, 'immediately': 492, 'thought': 1018, 'king': 550, 'gary': 417, 'moore': 652, 'freddy': 402, 'blues': 152, 'prodigy': 788, 'about': 39, 'creating': 260, 'tele': 997, 'legendary': 574, 'instrument': 518, 'carolina': 185, 'wake': 1091, 'diversity': 307, 'presented': 775, 'justice': 542, 'presentation': 774, 'obtained': 691, 'journal': 538, 'county': 257, 'affairs': 58, 'released': 839, 'key': 545, 'findings': 381, 'focus': 389, 'represents': 846, 'begin': 136, 'another': 91, 'hope': 478, 'particularly': 732, 'white': 1119, 'me': 626, 'think': 1012, 'honest': 476, 'inclusive': 501, 'approach': 101, 'there': 1009, 'reviews': 859, 'relation': 838, 'breakfast': 161, 'cereal': 193, 'consumption': 245, 'nutrition': 689, 'health': 457, 'systematic': 981, 'articles': 111, 'cereals': 194, 'october': 693, '2013': 14, 'scopus': 884, 'medline': 630, 'databases': 274, 'identified': 484, '232': 23, 'ranks': 816, 'freedom': 404, 'columbia': 220, 'trails': 1036, 'behind': 138, 'card': 182, 'read': 823, 'post': 767, 'where': 1115, 'does': 311, 'rank': 815, 'appeared': 98, 'signal': 922, 'centrally': 192, 'located': 598, 'campus': 178, 'offers': 697, 'additional': 53, 'workability': 1133, 'opportunitiesfairfield': 711, '08': 1, 'specialized': 947, 'continues': 247, 'remotely': 841, 'let': 578, 'look': 602, 'pros': 794, 'cons': 243, 'several': 908, 'common': 227, 'options': 714, 'cisa': 201, 'multi': 661, 'sharing': 913, 'analysis': 81, 'ms': 659, 'isac': 529, 'raising': 812, 'alarm': 68, 'gang': 415, 'increased': 504, 'targeting': 988, 'controlling': 248, 'grand': 432, 'prize': 784, 'culture': 266, 'wars': 1097, 'worry': 1138, 'elections': 342, 'voters': 1090, 'arrive': 110, 'polls': 762, 'fully': 409, 'ideologically': 486, 'indoctrinated': 508, 'recognized': 830, 'reality': 826, 'decades': 277, 'march': 616, 'institu': 516, 'five': 384, 'themes': 1006, 'consider': 244, 'incorporating': 502, 'into': 523, 'back': 124, 'sessions': 906, 'strong': 966, 'dynamic': 329, 'licensing': 586, 'portfolio': 765, 'photography': 747, 'kick': 546, 'notch': 683, '500px': 34, 'letter': 579, 'editor': 335, 'success': 971, 'brands': 159, 'payment': 738, 'associations': 114, 'acquired': 48, 'bigsis': 147, 'heat': 459, 'wave': 1101, 'status': 959, 'ac': 41, 'lbusd': 562, 'beach': 130, 'kabc': 543, 'utah': 1078, 'prepare': 771, 'abc4': 38, 'com': 223, 'extr': 362, 'searching': 886, 'find': 380, 'works': 1135, 'valuable': 1082, 'resource': 850, 'website': 1104, 'loaded': 596, 'well': 1110, 'organized': 718, 'videos': 1088, 'recommendations': 832, 'curricula': 268, 'good': 427, 'job': 533, 'building': 165, 'cru': 264, 'reading': 824, 'levels': 581, 'two': 1049, 'government': 430, 'lockdowns': 599, 'naep': 664, 'richardson': 860, 'region': 835, '10': 3, 'service': 903, 'purchasing': 803, 'cooperative': 250, 'r10mrpc': 809, 'selected': 894, 'inteam': 519, 'gdsn': 419, 'connect': 242, 'solution': 938, 'member': 631, 'easily': 332, 'access': 45, 'product': 789, 'specifications': 948, 'gl': 423, 'cost': 253, 'obtaining': 692, 'secondary': 889, 'skyrocketed': 932, 'past': 734, 'cnbc': 214, 'tuition': 1046, 'fees': 376, 'fact': 363, 'sheet': 915, 'biden': 144, 'harris': 451, 'actions': 51, 'strengthen': 964, 'fill': 378, 'vacancies': 1080, 'house': 481, 'search': 885, 'partner': 733, 'usa': 1072, 'side': 920, 'gigs': 421, 'afford': 60, 'teach': 989, 'pay': 737, 'penalty': 739, 'growsteachers': 440, 'struggling': 967, 'living': 595, 'rent': 843, 'increases': 505, 'work': 1132, 'leaving': 570, 'myles': 663, 'zhang': 1152, 'animation': 87, 'youtube': 1150, 'starts': 955, '1609': 7, 'documents': 310, 'process': 787, 'renaming': 842, 'colonization': 218, 'site': 930, 'grows': 439, 'visually': 1089, 'animates': 86, 'street': 963, 'grid': 434, 'environment': 351, 'present': 773, 'overview': 726, 'sis': 929, 'handles': 446, 'variety': 1083, 'use': 1073, 'arizona': 107, 'gov': 429, 'doug': 317, 'ducey': 327, 'republican': 847, 'became': 133, 'governor': 431, 'sign': 921, 'universal': 1061, 'could': 254, 'solve': 940, 'crisis': 262, 'wild': 1123, 'youngkin': 1148, 'fuels': 408, '24': 24, 'talk': 984, 'michigan': 635, 'convention': 249, 'headliner': 456, '2nd': 27, 'drudge': 326, 'feed': 374, 'needs': 671, 'support': 979, 'become': 134, 'patron': 735, 'san': 873, 'diego': 290, 'ca': 170, 'lrn': 609, 'chuckwolfe': 200, 'enrollment': 350, 'welcoming': 1109, 'across': 49, 'faith': 366, 'option': 713, 'faithprep': 367, 'pl': 749, 'tampa': 985, 'bay': 128, 'fla': 385, 'platfo': 755, 'reston': 852, 'va': 1079, 'nationwide': 668, 'platform': 756, 'cassville': 186, 'approved': 103, 'once': 704, 'again': 63, 'disciplinary': 295, 'measure': 627, 'discovery': 297, 'worldwide': 1137, 'backed': 125, 'clearlake': 209, 'capital': 181, 'together': 1028, 'affiliates': 59, 'leverages': 582, 'research': 848, 'institute': 517, 'providing': 797, 'trends': 1042, 'applicant': 99, 'pool': 763, 'spotlight': 951, 'everybody': 356, 'recruit': 834, 'retain': 855, 'workers': 1134, 'person': 746, 'roles': 865, 'unusually': 1065, 'tight': 1022, 'target': 986, 'quarter': 808, 'missed': 643, 'wall': 1092, 'expectations': 360, 'dramatically': 320, 'comparing': 233, 'yesterday': 1143, 'walmart': 1093, 'q2': 807, 'results': 854, 'beat': 132, '15th': 6, 'annual': 90, 'uplift': 1070, 'career': 184, 'fair': 365, 'event': 355, 'held': 460, 'tuesday': 1045, 'september': 902, '20th': 21}\n"
     ]
    }
   ],
   "source": [
    "vectorizer = CountVectorizer()\n",
    "vectorizer.fit(descriptions)\n",
    "print(vectorizer.vocabulary_)"
   ]
  }
 ],
 "metadata": {
  "kernelspec": {
   "display_name": "Python 3.10.4 ('ANLY501')",
   "language": "python",
   "name": "python3"
  },
  "language_info": {
   "codemirror_mode": {
    "name": "ipython",
    "version": 3
   },
   "file_extension": ".py",
   "mimetype": "text/x-python",
   "name": "python",
   "nbconvert_exporter": "python",
   "pygments_lexer": "ipython3",
   "version": "3.10.4"
  },
  "orig_nbformat": 4,
  "vscode": {
   "interpreter": {
    "hash": "f75bc8446c94e3689055a18017573334e0a773cb1d1589a7fad01c467977f447"
   }
  }
 },
 "nbformat": 4,
 "nbformat_minor": 2
}
