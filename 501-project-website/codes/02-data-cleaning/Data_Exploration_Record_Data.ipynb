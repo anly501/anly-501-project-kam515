{
 "cells": [
  {
   "cell_type": "code",
   "execution_count": 2,
   "id": "1eb05106",
   "metadata": {},
   "outputs": [],
   "source": [
    "# import packages\n",
    "import json\n",
    "import pandas as pd\n",
    "import numpy as np\n",
    "import matplotlib.pyplot as plt\n",
    "import seaborn as sns\n",
    "import requests\n",
    "from pandas import read_csv"
   ]
  },
  {
   "cell_type": "code",
   "execution_count": 3,
   "id": "08881b8f",
   "metadata": {},
   "outputs": [
    {
     "name": "stderr",
     "output_type": "stream",
     "text": [
      "/var/folders/xw/lth4lxb57psc5_ks7_nq1zj40000gn/T/ipykernel_65974/3846933287.py:38: DtypeWarning: Columns (49,66,67) have mixed types. Specify dtype option on import or set low_memory=False.\n",
      "  data = pd.read_csv(i)\n",
      "/var/folders/xw/lth4lxb57psc5_ks7_nq1zj40000gn/T/ipykernel_65974/3846933287.py:38: DtypeWarning: Columns (49) have mixed types. Specify dtype option on import or set low_memory=False.\n",
      "  data = pd.read_csv(i)\n",
      "/var/folders/xw/lth4lxb57psc5_ks7_nq1zj40000gn/T/ipykernel_65974/3846933287.py:38: DtypeWarning: Columns (49) have mixed types. Specify dtype option on import or set low_memory=False.\n",
      "  data = pd.read_csv(i)\n",
      "/var/folders/xw/lth4lxb57psc5_ks7_nq1zj40000gn/T/ipykernel_65974/3846933287.py:38: DtypeWarning: Columns (49) have mixed types. Specify dtype option on import or set low_memory=False.\n",
      "  data = pd.read_csv(i)\n",
      "/var/folders/xw/lth4lxb57psc5_ks7_nq1zj40000gn/T/ipykernel_65974/3846933287.py:38: DtypeWarning: Columns (49) have mixed types. Specify dtype option on import or set low_memory=False.\n",
      "  data = pd.read_csv(i)\n",
      "/var/folders/xw/lth4lxb57psc5_ks7_nq1zj40000gn/T/ipykernel_65974/3846933287.py:38: DtypeWarning: Columns (54) have mixed types. Specify dtype option on import or set low_memory=False.\n",
      "  data = pd.read_csv(i)\n",
      "/var/folders/xw/lth4lxb57psc5_ks7_nq1zj40000gn/T/ipykernel_65974/3846933287.py:38: DtypeWarning: Columns (54) have mixed types. Specify dtype option on import or set low_memory=False.\n",
      "  data = pd.read_csv(i)\n",
      "/var/folders/xw/lth4lxb57psc5_ks7_nq1zj40000gn/T/ipykernel_65974/3846933287.py:38: DtypeWarning: Columns (54) have mixed types. Specify dtype option on import or set low_memory=False.\n",
      "  data = pd.read_csv(i)\n",
      "/var/folders/xw/lth4lxb57psc5_ks7_nq1zj40000gn/T/ipykernel_65974/3846933287.py:38: DtypeWarning: Columns (54) have mixed types. Specify dtype option on import or set low_memory=False.\n",
      "  data = pd.read_csv(i)\n",
      "/var/folders/xw/lth4lxb57psc5_ks7_nq1zj40000gn/T/ipykernel_65974/3846933287.py:38: DtypeWarning: Columns (54) have mixed types. Specify dtype option on import or set low_memory=False.\n",
      "  data = pd.read_csv(i)\n",
      "/var/folders/xw/lth4lxb57psc5_ks7_nq1zj40000gn/T/ipykernel_65974/3846933287.py:38: DtypeWarning: Columns (54) have mixed types. Specify dtype option on import or set low_memory=False.\n",
      "  data = pd.read_csv(i)\n",
      "/var/folders/xw/lth4lxb57psc5_ks7_nq1zj40000gn/T/ipykernel_65974/3846933287.py:38: DtypeWarning: Columns (54) have mixed types. Specify dtype option on import or set low_memory=False.\n",
      "  data = pd.read_csv(i)\n",
      "/var/folders/xw/lth4lxb57psc5_ks7_nq1zj40000gn/T/ipykernel_65974/3846933287.py:38: DtypeWarning: Columns (24,25) have mixed types. Specify dtype option on import or set low_memory=False.\n",
      "  data = pd.read_csv(i)\n",
      "/var/folders/xw/lth4lxb57psc5_ks7_nq1zj40000gn/T/ipykernel_65974/3846933287.py:38: DtypeWarning: Columns (21) have mixed types. Specify dtype option on import or set low_memory=False.\n",
      "  data = pd.read_csv(i)\n",
      "/var/folders/xw/lth4lxb57psc5_ks7_nq1zj40000gn/T/ipykernel_65974/3846933287.py:38: DtypeWarning: Columns (21) have mixed types. Specify dtype option on import or set low_memory=False.\n",
      "  data = pd.read_csv(i)\n"
     ]
    }
   ],
   "source": [
    "urban_docs = read_csv('/Users/katherinemead/Documents/GitHub/anly-501-project-kam515/501-project-website/codes/01-data-gathering/Urban_API_Endpoints - Sheet1.csv')\n",
    "\n",
    "\n",
    "# CHANGE ALL OF THE BELOW TO A CSV\n",
    "\n",
    "\n",
    "# level + _ + source + _ + topic + _ + year + .json\n",
    "\n",
    "# create a list of all the json files\n",
    "csv_files = []\n",
    "for i in range(len(urban_docs)):\n",
    "    csv_files.append(str(urban_docs['Level'][i]) + '_' + str(urban_docs['Source'][i]) + '_' + str(urban_docs['Topic'][i]) + '_')\n",
    "    \n",
    "years = ['2007', '2008', '2009', '2010', '2011', '2012', '2013', '2014', '2015', '2016', '2017', '2018', '2019', '2020']\n",
    "\n",
    "new_csv_files = []\n",
    "stem_names = []\n",
    "stem_of_stem_names = []\n",
    "for i in csv_files:\n",
    "    for year in years:\n",
    "        file_dict = {}\n",
    "        new_csv_files.append('/Users/katherinemead/Documents/Urban_Institute_Files/Csv_files/' + i + (year + '.csv'))\n",
    "        stem_names.append(i + year)\n",
    "        file_dict[i + year] = \"\"\n",
    "        stem_of_stem_names.append(file_dict)\n",
    "\n",
    "\n",
    "error_list = []\n",
    "working_list = []\n",
    "working_stem_names = []\n",
    "working_counter = 0\n",
    "error_counter = 0\n",
    "indexer = 0\n",
    "for i in new_csv_files:\n",
    "    indexer += 1\n",
    "    try:\n",
    "        with open(i, 'r') as csv_file:\n",
    "            data = pd.read_csv(i)\n",
    "            working_counter += 1\n",
    "            working_list.append(i)\n",
    "            working_stem_names.append(stem_of_stem_names[indexer-1])\n",
    "    except:\n",
    "        error_list.append(i)\n",
    "        error_counter += 1\n",
    "\n"
   ]
  },
  {
   "cell_type": "code",
   "execution_count": 4,
   "id": "edbb95f7",
   "metadata": {
    "scrolled": false
   },
   "outputs": [
    {
     "name": "stderr",
     "output_type": "stream",
     "text": [
      "/var/folders/xw/lth4lxb57psc5_ks7_nq1zj40000gn/T/ipykernel_65974/1979105081.py:10: DtypeWarning: Columns (49,66,67) have mixed types. Specify dtype option on import or set low_memory=False.\n",
      "  data = pd.read_csv(item)\n",
      "/var/folders/xw/lth4lxb57psc5_ks7_nq1zj40000gn/T/ipykernel_65974/1979105081.py:10: DtypeWarning: Columns (49) have mixed types. Specify dtype option on import or set low_memory=False.\n",
      "  data = pd.read_csv(item)\n",
      "/var/folders/xw/lth4lxb57psc5_ks7_nq1zj40000gn/T/ipykernel_65974/1979105081.py:10: DtypeWarning: Columns (49) have mixed types. Specify dtype option on import or set low_memory=False.\n",
      "  data = pd.read_csv(item)\n",
      "/var/folders/xw/lth4lxb57psc5_ks7_nq1zj40000gn/T/ipykernel_65974/1979105081.py:10: DtypeWarning: Columns (49) have mixed types. Specify dtype option on import or set low_memory=False.\n",
      "  data = pd.read_csv(item)\n",
      "/var/folders/xw/lth4lxb57psc5_ks7_nq1zj40000gn/T/ipykernel_65974/1979105081.py:10: DtypeWarning: Columns (49) have mixed types. Specify dtype option on import or set low_memory=False.\n",
      "  data = pd.read_csv(item)\n",
      "/var/folders/xw/lth4lxb57psc5_ks7_nq1zj40000gn/T/ipykernel_65974/1979105081.py:10: DtypeWarning: Columns (54) have mixed types. Specify dtype option on import or set low_memory=False.\n",
      "  data = pd.read_csv(item)\n",
      "/var/folders/xw/lth4lxb57psc5_ks7_nq1zj40000gn/T/ipykernel_65974/1979105081.py:10: DtypeWarning: Columns (54) have mixed types. Specify dtype option on import or set low_memory=False.\n",
      "  data = pd.read_csv(item)\n",
      "/var/folders/xw/lth4lxb57psc5_ks7_nq1zj40000gn/T/ipykernel_65974/1979105081.py:10: DtypeWarning: Columns (54) have mixed types. Specify dtype option on import or set low_memory=False.\n",
      "  data = pd.read_csv(item)\n",
      "/var/folders/xw/lth4lxb57psc5_ks7_nq1zj40000gn/T/ipykernel_65974/1979105081.py:10: DtypeWarning: Columns (54) have mixed types. Specify dtype option on import or set low_memory=False.\n",
      "  data = pd.read_csv(item)\n",
      "/var/folders/xw/lth4lxb57psc5_ks7_nq1zj40000gn/T/ipykernel_65974/1979105081.py:10: DtypeWarning: Columns (54) have mixed types. Specify dtype option on import or set low_memory=False.\n",
      "  data = pd.read_csv(item)\n",
      "/var/folders/xw/lth4lxb57psc5_ks7_nq1zj40000gn/T/ipykernel_65974/1979105081.py:10: DtypeWarning: Columns (54) have mixed types. Specify dtype option on import or set low_memory=False.\n",
      "  data = pd.read_csv(item)\n",
      "/var/folders/xw/lth4lxb57psc5_ks7_nq1zj40000gn/T/ipykernel_65974/1979105081.py:10: DtypeWarning: Columns (54) have mixed types. Specify dtype option on import or set low_memory=False.\n",
      "  data = pd.read_csv(item)\n",
      "/var/folders/xw/lth4lxb57psc5_ks7_nq1zj40000gn/T/ipykernel_65974/1979105081.py:10: DtypeWarning: Columns (24,25) have mixed types. Specify dtype option on import or set low_memory=False.\n",
      "  data = pd.read_csv(item)\n",
      "/var/folders/xw/lth4lxb57psc5_ks7_nq1zj40000gn/T/ipykernel_65974/1979105081.py:10: DtypeWarning: Columns (21) have mixed types. Specify dtype option on import or set low_memory=False.\n",
      "  data = pd.read_csv(item)\n",
      "/var/folders/xw/lth4lxb57psc5_ks7_nq1zj40000gn/T/ipykernel_65974/1979105081.py:10: DtypeWarning: Columns (21) have mixed types. Specify dtype option on import or set low_memory=False.\n",
      "  data = pd.read_csv(item)\n"
     ]
    },
    {
     "name": "stdout",
     "output_type": "stream",
     "text": [
      "['agency_charter_indicator', 'agency_level', 'agency_type', 'boundary_change_indicator', 'bureau_indian_education', 'cbsa', 'cbsa_type', 'city_location', 'city_mailing', 'cmsa', 'congress_district_id', 'coordinators_fte', 'county_code', 'county_name', 'csa', 'english_language_learners', 'enrollment', 'fips', 'guidance_counselors_elem_fte', 'guidance_counselors_other_fte', 'guidance_counselors_sec_fte', 'guidance_counselors_total_fte', 'highest_grade_offered', 'instructional_aides_fte', 'latitude', 'lea_admin_support_staff_fte', 'lea_administrators_fte', 'lea_name', 'lea_staff_total_fte', 'leaid', 'librarian_specialists_fte', 'librarian_support_staff_fte', 'longitude', 'lowest_grade_offered', 'migrant_students', 'necta', 'number_of_schools', 'other_staff_fte', 'phone', 'school_admin_support_staff_fte', 'school_administrators_fte', 'school_counselors_fte', 'school_psychologists_fte', 'school_staff_total_fte', 'spec_ed_students', 'staff_total_fte', 'state_leaid', 'state_leg_district_lower', 'state_leg_district_upper', 'state_location', 'state_mailing', 'street_location', 'street_mailing', 'supervisory_union_number', 'support_staff_other_fte', 'support_staff_stu_wo_psych_fte', 'support_staff_students_fte', 'teachers_elementary_fte', 'teachers_kindergarten_fte', 'teachers_prek_fte', 'teachers_secondary_fte', 'teachers_total_fte', 'teachers_ungraded_fte', 'urban_centric_locale', 'year', 'zip4_location', 'zip4_mailing', 'zip_location', 'zip_mailing', 'assets_bond_fund', 'assets_other', 'assets_sinking_fund', 'benefits_employee_instruction', 'benefits_employee_total', 'benefits_enterprise_operations', 'benefits_food_service', 'benefits_supp_bco', 'benefits_supp_general_admin', 'benefits_supp_instruc_staff', 'benefits_supp_operation_plant', 'benefits_supp_pupils', 'benefits_supp_sch_admin', 'benefits_supp_stud_transport', 'censusid', 'debt_interest', 'debt_longterm_issued_fy', 'debt_longterm_outstand_beg_fy', 'debt_longterm_outstand_end_fy', 'debt_longterm_retired_fy', 'debt_shortterm_outstand_beg_fy', 'debt_shortterm_outstand_end_fy', 'enrollment_fall_responsible', 'enrollment_fall_school', 'exp_current_arra', 'exp_current_bco', 'exp_current_elsec_total', 'exp_current_enterprise', 'exp_current_federal_funds', 'exp_current_food_serv', 'exp_current_general_admin', 'exp_current_instruc_staff', 'exp_current_instruction_total', 'exp_current_operation_plant', 'exp_current_other', 'exp_current_other_elsec', 'exp_current_pupils', 'exp_current_resa', 'exp_current_sch_admin', 'exp_current_state_local_funds', 'exp_current_student_transport', 'exp_current_supp_serv_nonspec', 'exp_current_supp_serve_total', 'exp_nonelsec', 'exp_nonelsec_adult_education', 'exp_nonelsec_community_serv', 'exp_nonelsec_other', 'exp_tech_equipment', 'exp_tech_supplies_services', 'exp_textbooks', 'exp_total', 'exp_utilities_energy', 'outlay_capital_arra', 'outlay_capital_construction', 'outlay_capital_instruc_equip', 'outlay_capital_land_structures', 'outlay_capital_nonspec_equip', 'outlay_capital_other_equip', 'outlay_capital_total', 'payments_charter_schools', 'payments_local_govt', 'payments_other_sch_system', 'payments_private_schools', 'payments_state_govt', 'rev_fed_arra', 'rev_fed_child_nutrition_act', 'rev_fed_direct_impact_aid', 'rev_fed_direct_indian_ed', 'rev_fed_direct_other', 'rev_fed_nonspec', 'rev_fed_state_bilingual_ed', 'rev_fed_state_drug_free', 'rev_fed_state_idea', 'rev_fed_state_math_sci_teach', 'rev_fed_state_other', 'rev_fed_state_title_i', 'rev_fed_state_vocational', 'rev_fed_total', 'rev_local_cities_counties', 'rev_local_dist_activ_receipts', 'rev_local_fines_forfeits', 'rev_local_income_tax', 'rev_local_interest_earnings', 'rev_local_misc', 'rev_local_oth_sales_serv', 'rev_local_other_sch_systems', 'rev_local_other_tax', 'rev_local_parent_govt', 'rev_local_private_contrib', 'rev_local_prop_tax', 'rev_local_property_sale', 'rev_local_rents_royalties', 'rev_local_sales_tax', 'rev_local_sch_lunch', 'rev_local_student_fees_nonspec', 'rev_local_textbook_sales_rents', 'rev_local_total', 'rev_local_transportation_fees', 'rev_local_tuition_fees', 'rev_local_utility_tax', 'rev_nces', 'rev_state_bilingual_ed', 'rev_state_compens_basic_ed', 'rev_state_employee_benefits', 'rev_state_gen_formula_assist', 'rev_state_gifted_talented', 'rev_state_nonspec', 'rev_state_not_employee_benefits', 'rev_state_oth_prog', 'rev_state_outlay_capital_debt', 'rev_state_sch_lunch', 'rev_state_special_ed', 'rev_state_staff_improve', 'rev_state_total', 'rev_state_transportation', 'rev_state_vocational_ed', 'rev_total', 'salaries_food_service', 'salaries_instruction', 'salaries_supp_bco', 'salaries_supp_general_admin', 'salaries_supp_instruc_staff', 'salaries_supp_operation_plant', 'salaries_supp_pupils', 'salaries_supp_sch_admin', 'salaries_supp_stud_transport', 'salaries_teachers_other_ed', 'salaries_teachers_regular_prog', 'salaries_teachers_sped', 'salaries_teachers_vocational', 'salaries_total', 'cohort_num', 'disability', 'econ_disadvantaged', 'foster_care', 'grad_rate_high', 'grad_rate_low', 'grad_rate_midpt', 'homeless', 'leaid_num', 'lep', 'race', 'district_id', 'district_name', 'est_population_5_17', 'est_population_5_17_pct', 'est_population_5_17_poverty', 'est_population_5_17_poverty_pct', 'est_population_total', 'crdc_id', 'ncessch', 'sex', 'students_chronically_absent', 'credit_recovery_offered', 'enrl_credit_recovery', 'corpinstances', 'corpinstances_preschool', 'suspensions_instances', 'suspensions_instances_preschool', 'attack_no_weapon_incidents', 'attack_w_firearm_incidents', 'attack_w_weapon_incidents', 'firearm_incident_ind', 'homicide_ind', 'possession_firearm_incidents', 'rape_incidents', 'robbery_no_weapon_incidents', 'robbery_w_firearm_incidents', 'robbery_w_weapon_incidents', 'sexual_battery_incidents', 'threats_no_weapon_incidents', 'threats_w_firearm_incidents', 'threats_w_weapon_incidents', 'ap_courses_indicator', 'ap_courses_math_indicator', 'ap_courses_other_indicator', 'ap_courses_science_indicator', 'classes_single_sex_alg_geom', 'classes_single_sex_alg_geom_f', 'classes_single_sex_alg_geom_m', 'classes_single_sex_english', 'classes_single_sex_english_f', 'classes_single_sex_english_m', 'classes_single_sex_indicator', 'classes_single_sex_other', 'classes_single_sex_other_f', 'classes_single_sex_other_m', 'classes_single_sex_othermath', 'classes_single_sex_othermath_f', 'classes_single_sex_othermath_m', 'classes_single_sex_science', 'classes_single_sex_science_f', 'classes_single_sex_science_m', 'gifted_talented_indicator', 'num_classes_advanced_math', 'num_classes_algebra1', 'num_classes_algebra2', 'num_classes_biology', 'num_classes_calculus', 'num_classes_chemistry', 'num_classes_geometry', 'num_classes_physics', 'num_courses_ap', 'num_taught_certified_adv_math', 'num_taught_certified_algebra1', 'num_taught_certified_algebra2', 'num_taught_certified_biology', 'num_taught_certified_calculus', 'num_taught_certified_chemistry', 'num_taught_certified_geometry', 'num_taught_certified_physics', 'participants_single_sex_sports', 'participants_single_sex_sports_m', 'particpants_single_sex_sports_f', 'sch_dual_indicator', 'sports_single_sex_f', 'sports_single_sex_indicator', 'sports_single_sex_m', 'students_select_ap_indicator', 'teams_single_sex_f', 'teams_single_sex_m', 'administration_fte', 'expenditures_nonpersonnel', 'salaries_administration', 'salaries_instruc_staff', 'salaries_instructional_aides', 'salaries_support', 'salaries_teachers', 'support_fte', 'counselors_fte', 'law_enforcement_fte', 'law_enforcement_ind', 'nurses_fte', 'psychologists_fte', 'security_guard_fte', 'social_workers_fte', 'teachers_absent_fte', 'teachers_certified_fte', 'teachers_current_sy', 'teachers_first_year_fte', 'teachers_fte_crdc', 'teachers_previous_sy', 'teachers_second_year_fte', 'teachers_uncertified_fte', 'ncessch_num', 'school_name', 'gleaid', 'meps_mod_poverty_pct', 'meps_mod_poverty_ptl', 'meps_poverty_pct', 'meps_poverty_ptl', 'meps_poverty_se']\n"
     ]
    }
   ],
   "source": [
    "# LIST OF ALL COLUMN NAMES IN THE DATASET\n",
    "\n",
    "indexer = 0\n",
    "column_names_complete = []\n",
    "for item in working_list:\n",
    "    indexer += 1\n",
    "    working_stem_names[indexer-1][\"year\"] = item[-8:-4]\n",
    "    column_names = []\n",
    "    with open(item, 'r') as csv_file:\n",
    "        data = pd.read_csv(item)\n",
    "        column_names.append(data.columns)\n",
    "    working_stem_names[indexer-1][\"column_names\"] = column_names\n",
    "    for i in working_stem_names[indexer-1][\"column_names\"]:\n",
    "        for v in i[1:]:\n",
    "            column_names_complete.append(v)\n",
    "\n",
    "\n",
    "no_dup_column_list = []\n",
    "[no_dup_column_list.append(x) for x in column_names_complete if x not in no_dup_column_list]\n",
    "print(no_dup_column_list)"
   ]
  },
  {
   "cell_type": "code",
   "execution_count": 1,
   "id": "c9c8953b",
   "metadata": {},
   "outputs": [
    {
     "ename": "NameError",
     "evalue": "name 'working_stem_names' is not defined",
     "output_type": "error",
     "traceback": [
      "\u001b[0;31m---------------------------------------------------------------------------\u001b[0m",
      "\u001b[0;31mNameError\u001b[0m                                 Traceback (most recent call last)",
      "Input \u001b[0;32mIn [1]\u001b[0m, in \u001b[0;36m<cell line: 1>\u001b[0;34m()\u001b[0m\n\u001b[0;32m----> 1\u001b[0m \u001b[38;5;28mlen\u001b[39m(\u001b[43mworking_stem_names\u001b[49m)\n\u001b[1;32m      2\u001b[0m \u001b[38;5;28mlen\u001b[39m(working_list)\n",
      "\u001b[0;31mNameError\u001b[0m: name 'working_stem_names' is not defined"
     ]
    }
   ],
   "source": [
    "len(working_stem_names)\n",
    "len(working_list)"
   ]
  },
  {
   "cell_type": "code",
   "execution_count": 21,
   "id": "c908e0da",
   "metadata": {},
   "outputs": [
    {
     "name": "stdout",
     "output_type": "stream",
     "text": [
      "0\n",
      "[]\n",
      "1\n",
      "['/Users/katherinemead/Documents/Urban_Institute_Files/Csv_files/school-districts_ccd_directory_2007.csv']\n"
     ]
    }
   ],
   "source": [
    "\n",
    "\n",
    "def label_school_or_district(working_list):\n",
    "    school_level_datasets = []\n",
    "    district_level_datasets = []\n",
    "    indexer = 0\n",
    "    for item in working_stem_names:\n",
    "        indexer += 1\n",
    "        print\n",
    "            \n",
    "            \n",
    "            \n",
    "            \n",
    "            \n",
    "# OLDER STUFF IN THIS BOX\n",
    "\n",
    "        \n",
    "        for index in working_stem_names:\n",
    "            keys_for_list = working_stem_names[indexer-1].keys()\n",
    "            if list(keys_for_list)[0][7] == \"_\": # schools datasets will have an underscore at the 7th index of their name\n",
    "                school_level_datasets.append(item)\n",
    "            else:\n",
    "                district_level_datasets.append(item)\n",
    "            return school_level_datasets, district_level_datasets\n",
    "\n",
    "\n",
    "school_level_datasets = label_school_or_district(working_list)[0]\n",
    "district_level_datasets = label_school_or_district(working_list)[1]\n",
    "print(len(school_level_datasets))\n",
    "print(school_level_datasets)\n",
    "print(len(district_level_datasets))\n",
    "print(district_level_datasets)\n",
    "\n",
    "\n",
    "# OLDER OLDER STUFF FROM PREV FUNCTION\n",
    "\n",
    "indexer = 0\n",
    "column_names_complete = []\n",
    "for item in working_list:\n",
    "    indexer += 1\n",
    "    working_stem_names[indexer-1][\"year\"] = item[-8:-4]\n",
    "    column_names = []\n",
    "    with open(item, 'r') as csv_file:\n",
    "        data = pd.read_csv(item)\n",
    "        column_names.append(data.columns)\n",
    "    working_stem_names[indexer-1][\"column_names\"] = column_names\n",
    "    for i in working_stem_names[indexer-1][\"column_names\"]:\n",
    "        for v in i[1:]:\n",
    "            column_names_complete.append(v)\n",
    "\n",
    "\n",
    "no_dup_column_list = []\n",
    "[no_dup_column_list.append(x) for x in column_names_complete if x not in no_dup_column_list]\n",
    "print(no_dup_column_list)"
   ]
  },
  {
   "cell_type": "code",
   "execution_count": null,
   "id": "647513b2",
   "metadata": {},
   "outputs": [],
   "source": [
    "# SPLIT INTO SCHOOL SPREADSHEETS AND DISTRICT SPREADSHEETS\n",
    "    \n",
    "    "
   ]
  },
  {
   "cell_type": "code",
   "execution_count": null,
   "id": "d2ff6daa",
   "metadata": {},
   "outputs": [],
   "source": [
    "# SEE THE COMMON ID THAT LINKS ALL SCHOOL SPREADSHEETS AND ALL DISTRICT SPREADSHEETS\n",
    "\n"
   ]
  },
  {
   "cell_type": "code",
   "execution_count": null,
   "id": "9616ed8c",
   "metadata": {},
   "outputs": [],
   "source": [
    "# MERGE SCHOOL SPREADSHEETS BY THE COMMON ID FOR EACH YEAR --> PUT THIS IN A SUBFOLDER UNDER CSVs\n",
    "\n"
   ]
  },
  {
   "cell_type": "code",
   "execution_count": null,
   "id": "9cd1977f",
   "metadata": {},
   "outputs": [],
   "source": [
    "# MERGE DISTRICT SPREADSHEETS BY THE COMMON ID FOR EACH YEAR --> PUT THIS IN A SUBFOLDER UNDER CSVs\n",
    "\n"
   ]
  },
  {
   "cell_type": "code",
   "execution_count": null,
   "id": "23f54574",
   "metadata": {},
   "outputs": [],
   "source": [
    "# GET SUMMARY STATISTICS FOR ALL OF THE VARIABLES --> save these as several jpgs\n",
    "\n"
   ]
  },
  {
   "cell_type": "code",
   "execution_count": null,
   "id": "d7b7d31b",
   "metadata": {},
   "outputs": [],
   "source": [
    "# GET ALL OF THE SCHOOL COLUMNS AND ALL OF THE DISTRICT COLUMNS --> see if there's a cool way to visualize these\n",
    "\n"
   ]
  }
 ],
 "metadata": {
  "kernelspec": {
   "display_name": "Python 3 (ipykernel)",
   "language": "python",
   "name": "python3"
  },
  "language_info": {
   "codemirror_mode": {
    "name": "ipython",
    "version": 3
   },
   "file_extension": ".py",
   "mimetype": "text/x-python",
   "name": "python",
   "nbconvert_exporter": "python",
   "pygments_lexer": "ipython3",
   "version": "3.9.7"
  }
 },
 "nbformat": 4,
 "nbformat_minor": 5
}
